{
 "cells": [
  {
   "cell_type": "code",
   "execution_count": 7,
   "metadata": {
    "collapsed": false
   },
   "outputs": [
    {
     "name": "stdout",
     "output_type": "stream",
     "text": [
      "{'id': '12607212', 't': 'TSLA', 'e': 'NASDAQ', 'l': '347.46', 'l_fix': '347.46', 'l_cur': '347.46', 's': '0', 'ltt': '4:00PM EDT', 'lt': 'Aug 18, 4:00PM EDT', 'lt_dts': '2017-08-18T16:00:01Z', 'c': '-4.46', 'c_fix': '-4.46', 'cp': '-1.27', 'cp_fix': '-1.27', 'ccol': 'chr', 'pcls_fix': '351.92'}\n",
      "[239000000, 129000000, 124000000]\n",
      "12.37\n"
     ]
    }
   ],
   "source": [
    "# Imports\n",
    "\n",
    "import urllib.request\n",
    "import json\n",
    "from bs4 import BeautifulSoup\n",
    "import bs4 as bs\n",
    "import re, requests\n",
    "import pickle\n",
    "import datetime as dt # Easily work with dates\n",
    "import pandas_datareader.data as web"
   ]
  },
  {
   "cell_type": "code",
   "execution_count": 8,
   "metadata": {
    "collapsed": true
   },
   "outputs": [],
   "source": [
    "# Call this function to give you financial information\n",
    "def periodic_figure_values(soup, yahoo_figure):\n",
    "\n",
    "    values = []\n",
    "    pattern = re.compile(yahoo_figure)\n",
    "\n",
    "    title = soup.find(\"strong\", text=pattern)    # works for the figures printed in bold\n",
    "    if title:\n",
    "        row = title.parent.parent\n",
    "    else:\n",
    "        title = soup.find(\"td\", text=pattern)    # works for any other available figure\n",
    "        if title:\n",
    "            row = title.parent\n",
    "        else:\n",
    "            sys.exit(\"Invalid figure '\" + yahoo_figure + \"' passed.\")\n",
    "\n",
    "    cells = row.find_all(\"td\")[1:]    # exclude the <td> with figure name\n",
    "    for cell in cells:\n",
    "        if cell.text.strip() != yahoo_figure:    # needed because some figures are indented\n",
    "            str_value = cell.text.strip().replace(\",\", \"\").replace(\"(\", \"-\").replace(\")\", \"\")\n",
    "            if str_value == \"-\":\n",
    "                str_value = 0\n",
    "            value = int(str_value) * 1000\n",
    "            values.append(value)\n",
    "\n",
    "    return values\n",
    "\n",
    "\n",
    " "
   ]
  },
  {
   "cell_type": "code",
   "execution_count": 9,
   "metadata": {
    "collapsed": true
   },
   "outputs": [],
   "source": [
    "def financials_soup(ticker_symbol, statement=\"is\", quarterly=False):\n",
    "\n",
    "    if statement == \"is\" or statement == \"bs\" or statement == \"cf\":\n",
    "        url = \"https://finance.yahoo.com/q/\" + statement + \"?s=\" + ticker_symbol\n",
    "        if not quarterly:\n",
    "            url += \"&annual\"\n",
    "        return BeautifulSoup(requests.get(url).text, \"html.parser\")\n",
    "\n",
    "    return exit(\"Invalid financial statement code '\" + statement + \"' passed.\")"
   ]
  },
  {
   "cell_type": "code",
   "execution_count": 12,
   "metadata": {
    "collapsed": false
   },
   "outputs": [],
   "source": [
    "# Use this to get market data for company using symbol\n",
    "class GoogleFinanceAPI:\n",
    "    def __init__(self):\n",
    "        self.prefix = \"http://finance.google.com/finance/info?client=ig&q=\"\n",
    "    \n",
    "    def get(self,symbol,exchange):\n",
    "        url = self.prefix+\"%s:%s\"%(exchange,symbol)\n",
    "        u = urllib.request.urlopen(url)\n",
    "        content = u.read().decode('utf-8')\n",
    "        obj = json.loads(content[3:])\n",
    "        return obj[0]"
   ]
  },
  {
   "cell_type": "code",
   "execution_count": 13,
   "metadata": {
    "collapsed": true
   },
   "outputs": [],
   "source": [
    "# This function returns an array of all tickers for publicly traded companies!\n",
    "def save_sp500_tickers():\n",
    "    resp = requests.get('http://en.wikipedia.org/wiki/List_of_S%26P_500_companies')\n",
    "    soup = bs.BeautifulSoup(resp.text, 'lxml')\n",
    "    table = soup.find('table', {'class': 'wikitable sortable'})\n",
    "    tickers = []\n",
    "    for row in table.findAll('tr')[1:]:\n",
    "        ticker = row.findAll('td')[0].text\n",
    "        tickers.append(ticker)\n",
    "        \n",
    "    with open(\"sp500tickers.pickle\",\"wb\") as f:\n",
    "        pickle.dump(tickers,f)\n",
    "        \n",
    "    return tickers\n"
   ]
  },
  {
   "cell_type": "code",
   "execution_count": 16,
   "metadata": {
    "collapsed": false
   },
   "outputs": [
    {
     "name": "stdout",
     "output_type": "stream",
     "text": [
      "{'id': '662925', 't': 'NVDA', 'e': 'NASDAQ', 'l': '161.50', 'l_fix': '161.50', 'l_cur': '161.50', 's': '0', 'ltt': '4:00PM EDT', 'lt': 'Aug 18, 4:00PM EDT', 'lt_dts': '2017-08-18T16:00:02Z', 'c': '+0.03', 'c_fix': '0.03', 'cp': '0.02', 'cp_fix': '0.02', 'ccol': 'chg', 'pcls_fix': '161.47'}\n",
      "[239000000, 129000000, 124000000]\n",
      "161.50\n"
     ]
    }
   ],
   "source": [
    "# Executable code\n",
    "c = GoogleFinanceAPI()\n",
    "quote = c.get(\"NVDA\",\"Nasdaq\")\n",
    "print(quote)\n",
    "print(periodic_figure_values(financials_soup(\"NVDA\", \"is\"), \"Income Tax Expense\"))\n",
    "save_sp500_tickers()\n",
    "print (c.get(\"NVDA\", \"NASDAQ\")['l']) # This is how you get a stock price\n",
    "    "
   ]
  },
  {
   "cell_type": "code",
   "execution_count": null,
   "metadata": {
    "collapsed": true
   },
   "outputs": [],
   "source": [
    "# Array of all publicly traded companies\n",
    "companies = save_sp500_tickers()"
   ]
  },
  {
   "cell_type": "code",
   "execution_count": null,
   "metadata": {
    "collapsed": true
   },
   "outputs": [],
   "source": [
    "def getHistoricalPrices(symbol):\n",
    "    start = dt.datetime(2000, 1, 1)\n",
    "    end = dt.datetime(2017, 7, 3)\n",
    "    df = web.DataReader(symbol, 'yahoo', start, end)\n",
    "    return df['Adj Close']"
   ]
  },
  {
   "cell_type": "code",
   "execution_count": null,
   "metadata": {
    "collapsed": true
   },
   "outputs": [],
   "source": [
    "# Helper Functions\n",
    "\n",
    "def getStockHolderEquity(symbol):\n",
    "    return periodic_figure_values(financials_soup(symbol, \"bs\"), \"Total Stockholder Equity\")[0] * 1000\n",
    "\n",
    "\n",
    "\n",
    "\n",
    "\n"
   ]
  },
  {
   "cell_type": "code",
   "execution_count": null,
   "metadata": {
    "collapsed": true
   },
   "outputs": [],
   "source": []
  }
 ],
 "metadata": {
  "kernelspec": {
   "display_name": "Python 3",
   "language": "python",
   "name": "python3"
  },
  "language_info": {
   "codemirror_mode": {
    "name": "ipython",
    "version": 3
   },
   "file_extension": ".py",
   "mimetype": "text/x-python",
   "name": "python",
   "nbconvert_exporter": "python",
   "pygments_lexer": "ipython3",
   "version": "3.6.0"
  }
 },
 "nbformat": 4,
 "nbformat_minor": 2
}
