{
 "cells": [
  {
   "cell_type": "code",
   "execution_count": 2,
   "metadata": {
    "collapsed": false
   },
   "outputs": [],
   "source": [
    "from market import *\n",
    "from market_ml import *\n",
    "import numpy as np"
   ]
  },
  {
   "cell_type": "code",
   "execution_count": 3,
   "metadata": {
    "collapsed": false
   },
   "outputs": [
    {
     "name": "stdout",
     "output_type": "stream",
     "text": [
      "['PIH' 'TURN' 'FLWS' ... 'XNET' 'YNDX' 'YTRA']\n"
     ]
    }
   ],
   "source": [
    "tickers = get_tickers()\n",
    "print(tickers)"
   ]
  },
  {
   "cell_type": "code",
   "execution_count": 4,
   "metadata": {
    "collapsed": true
   },
   "outputs": [],
   "source": [
    "def decide_transaction(tickers,  time_averaged=False, thresh=15):\n",
    "    predictions = []\n",
    "    actual = []\n",
    "    decisions = [0] * len(tickers)\n",
    "    i = 0\n",
    "    model = train_and_get_model()\n",
    "    for ticker in tickers:\n",
    "        if time_averaged:\n",
    "            pred = predict_price_time_averaged(ticker, time_averaged_period, verbose=0)\n",
    "        else:\n",
    "            pred = predict_price(ticker, model=model)\n",
    "        summary = parse(ticker)\n",
    "        if summary != {\"error\":\"Failed to parse json response\"}:\n",
    "            try:\n",
    "                real = float(summary['Open'])\n",
    "            except KeyError:\n",
    "                i += 1\n",
    "                continue\n",
    "            predictions.append(pred)\n",
    "            actual.append(real)\n",
    "            if pred != -1:\n",
    "                if pred - real > 0:\n",
    "                    valuation = 'undervalued'\n",
    "                    percent_undervalued = abs(pred - real) / real * 100\n",
    "                    if percent_undervalued > thresh:\n",
    "                        decisions[i] = round(percent_undervalued)\n",
    "                elif pred - real < 0:\n",
    "                    valuation = 'overvalued'\n",
    "                    percent_overvalued = abs(pred - real) / real * 100\n",
    "                    if percent_overvalued > thresh:\n",
    "                        decisions[i] = -1 * round(percent_overvalued)\n",
    "                percent = str(round(abs(pred - real) / real * 100, 2)) + '%'\n",
    "                print(ticker + ' is ' + valuation + ' by ' + str(round(abs(pred - real), 2)) + ', or ' + percent + '.')\n",
    "        i += 1\n",
    "    return decisions, actual, tickers"
   ]
  },
  {
   "cell_type": "code",
   "execution_count": 7,
   "metadata": {
    "collapsed": false,
    "scrolled": true
   },
   "outputs": [
    {
     "name": "stdout",
     "output_type": "stream",
     "text": [
      "PRGS is overvalued by 2.02, or 5.03%.\n",
      "NIHD is undervalued by 1.14, or 59.28%.\n",
      "CGNX is undervalued by 3.12, or 6.18%.\n",
      "SGC is overvalued by 0.06, or 0.35%.\n",
      "LPSN is undervalued by 5.57, or 14.45%.\n",
      "AMCX is overvalued by 13.0, or 26.45%.\n",
      "FTEK is overvalued by 1.17, or 113.95%.\n",
      "MITK is undervalued by 1.77, or 17.99%.\n",
      "UMRX is overvalued by 0.2, or 10.35%.\n",
      "CSX is overvalued by 37.33, or 52.79%.\n",
      "CORE is overvalued by 7.98, or 25.74%.\n",
      "BLCM is undervalued by 0.22, or 20.42%.\n",
      "SPCB is undervalued by 0.04, or 4.13%.\n",
      "SGMS is undervalued by 0.96, or 4.17%.\n",
      "CDTX is undervalued by 0.14, or 6.97%.\n",
      "CBAN is overvalued by 0.46, or 2.93%.\n",
      "PVAC is undervalued by 4.85, or 15.1%.\n",
      "AMSWA is overvalued by 0.37, or 2.46%.\n",
      "EKSO is undervalued by 1.38, or 255.72%.\n",
      "GT is overvalued by 0.48, or 3.57%.\n",
      "JAGX is undervalued by 0.27, or 19.87%.\n",
      "RICK is undervalued by 1.51, or 8.88%.\n",
      "CARV is undervalued by 4.78, or 142.55%.\n",
      "ENT is overvalued by 0.38, or 45.0%.\n",
      "ENFC is overvalued by 1.33, or 4.42%.\n",
      "LQDT is undervalued by 0.21, or 2.68%.\n",
      "SBFG is overvalued by 1.46, or 8.95%.\n",
      "PTVCB is undervalued by 1.44, or 8.8%.\n",
      "LBRDK is overvalued by 9.17, or 8.41%.\n",
      "IDCC is undervalued by 1.95, or 3.6%.\n",
      "HSGX is undervalued by 2.13, or 925.67%.\n",
      "ALNY is undervalued by 3.62, or 4.27%.\n",
      "FCFS is undervalued by 26.38, or 27.53%.\n",
      "SPWH is overvalued by 2.11, or 47.48%.\n",
      "GEMP is undervalued by 2.22, or 428.01%.\n",
      "ACLS is overvalued by 1.06, or 5.78%.\n",
      "STCN is undervalued by 0.69, or 39.54%.\n",
      "ABDC is overvalued by 0.87, or 9.65%.\n",
      "REDU is undervalued by 0.8, or 9.78%.\n",
      "SFST is undervalued by 6.0, or 14.86%.\n",
      "EVOL is overvalued by 0.26, or 29.53%.\n",
      "SNES is undervalued by 1.41, or 146.79%.\n",
      "DOVA is overvalued by 3.6, or 22.53%.\n",
      "NXTD is overvalued by 0.68, or 157.06%.\n",
      "DRIO is undervalued by 0.72, or 195.03%.\n",
      "SMTC is overvalued by 5.07, or 10.67%.\n",
      "ATNI is overvalued by 2.58, or 4.31%.\n",
      "ARKR is overvalued by 5.58, or 26.93%.\n",
      "Failed to parse json response\n",
      "Failed to parse json response\n",
      "TCBK is undervalued by 3.03, or 8.3%.\n",
      "AVAV is overvalued by 18.29, or 29.87%.\n",
      "CRWS is overvalued by 3.02, or 57.58%.\n",
      "KZR is undervalued by 1.65, or 47.53%.\n",
      "CYRN is undervalued by 0.83, or 48.27%.\n",
      "CCRN is undervalued by 2.47, or 23.09%.\n",
      "CMTL is overvalued by 5.7, or 19.4%.\n",
      "MGEN is overvalued by 0.87, or 95.52%.\n",
      "TSBK is undervalued by 0.65, or 2.34%.\n",
      "XRAY is overvalued by 9.31, or 18.67%.\n",
      "CLVS is undervalued by 2.19, or 45.55%.\n",
      "SYBT is overvalued by 2.44, or 6.49%.\n",
      "ADI is overvalued by 12.86, or 11.11%.\n",
      "RRR is undervalued by 0.16, or 0.72%.\n",
      "HQY is undervalued by 1.13, or 1.84%.\n",
      "DNKN is undervalued by 4.1, or 5.03%.\n",
      "PDD is undervalued by 4.94, or 14.25%.\n",
      "QDEL is overvalued by 9.56, or 14.95%.\n",
      "COLB is overvalued by 1.59, or 4.31%.\n",
      "HCKT is overvalued by 2.32, or 13.68%.\n",
      "YTRA is overvalued by 1.02, or 24.62%.\n",
      "QGEN is undervalued by 3.08, or 9.17%.\n",
      "Failed to parse json response\n",
      "Failed to parse json response\n",
      "BRID is overvalued by 0.17, or 0.48%.\n",
      "FLWS is undervalued by 1.32, or 9.4%.\n",
      "PSEC is undervalued by 0.61, or 9.3%.\n",
      "SESN is undervalued by 1.8, or 164.88%.\n",
      "RRD is undervalued by 0.3, or 10.03%.\n",
      "EYEN is overvalued by 1.57, or 32.91%.\n",
      "MGNX is overvalued by 1.99, or 15.31%.\n",
      "Failed to parse json response\n",
      "Failed to parse json response\n",
      "FRBA is overvalued by 0.25, or 2.21%.\n",
      "ILMN is undervalued by 2.76, or 0.91%.\n",
      "GLNG is undervalued by 1.08, or 8.29%.\n",
      "FSCT is undervalued by 8.9, or 24.16%.\n",
      "SPLK is overvalued by 13.69, or 11.23%.\n",
      "PGNX is undervalued by 2.08, or 39.09%.\n",
      "NOVT is undervalued by 2.49, or 2.94%.\n",
      "Failed to parse json response\n",
      "Failed to parse json response\n",
      "OIIM is overvalued by 0.8, or 57.99%.\n",
      "FRME is undervalued by 1.83, or 4.73%.\n",
      "SMMT is overvalued by 3.71, or 239.07%.\n",
      "VRSN is undervalued by 19.83, or 10.41%.\n",
      "LSXMK is undervalued by 2.37, or 5.66%.\n",
      "CVTI is undervalued by 1.67, or 9.65%.\n",
      "CGBD is undervalued by 1.73, or 11.57%.\n",
      "ESQ is overvalued by 1.98, or 8.36%.\n",
      "XLRN is undervalued by 4.0, or 9.25%.\n",
      "VYGR is overvalued by 0.18, or 0.99%.\n",
      "FAT is undervalued by 1.53, or 33.48%.\n",
      "CAMP is undervalued by 0.89, or 7.92%.\n",
      "BLKB is undervalued by 4.8, or 5.16%.\n",
      "TYME is overvalued by 0.83, or 46.59%.\n",
      "LEDS is undervalued by 1.06, or 41.8%.\n",
      "QTRH is overvalued by 3.67, or 279.9%.\n",
      "SEAC is overvalued by 1.23, or 40.68%.\n",
      "Failed to parse json response\n",
      "AEZS is overvalued by 0.47, or 29.39%.\n",
      "CNOB is undervalued by 0.62, or 2.83%.\n",
      "DSWL is overvalued by 0.13, or 4.81%.\n",
      "STML is undervalued by 1.26, or 11.28%.\n",
      "PXS is undervalued by 6.4, or 524.47%.\n",
      "TBBK is undervalued by 2.03, or 20.1%.\n"
     ]
    }
   ],
   "source": [
    "import random\n",
    "\n",
    "selection = random.sample(list(get_tickers()), k = 112)\n",
    "decisions, actual, tickers = decide_transaction(selection)\n"
   ]
  },
  {
   "cell_type": "code",
   "execution_count": 9,
   "metadata": {
    "collapsed": false
   },
   "outputs": [
    {
     "data": {
      "text/plain": [
       "[0,\n",
       " 0,\n",
       " 0,\n",
       " 0,\n",
       " 0,\n",
       " 0,\n",
       " 17.0,\n",
       " 0,\n",
       " 0,\n",
       " -36.0,\n",
       " 38.0,\n",
       " 0,\n",
       " -21.0,\n",
       " 0,\n",
       " -78.0,\n",
       " 0,\n",
       " 0,\n",
       " 33.0,\n",
       " -34.0,\n",
       " 0,\n",
       " 40.0,\n",
       " 20.0,\n",
       " 0,\n",
       " 32.0,\n",
       " 0,\n",
       " -17.0,\n",
       " 0,\n",
       " -16.0,\n",
       " 70.0,\n",
       " -585.0,\n",
       " 0,\n",
       " 0,\n",
       " 88.0,\n",
       " -17.0,\n",
       " 16.0,\n",
       " 0,\n",
       " -30.0,\n",
       " -47.0,\n",
       " 0,\n",
       " 33.0,\n",
       " 23.0,\n",
       " -85.0,\n",
       " -36.0,\n",
       " 0,\n",
       " 0,\n",
       " 56.0,\n",
       " 0,\n",
       " 0,\n",
       " 21.0,\n",
       " 0,\n",
       " -69.0,\n",
       " 0,\n",
       " 0,\n",
       " 0,\n",
       " 32.0,\n",
       " 0,\n",
       " 0,\n",
       " 0,\n",
       " 38.0,\n",
       " 31.0,\n",
       " 85.0,\n",
       " 0,\n",
       " 49.0,\n",
       " 0,\n",
       " 0,\n",
       " 22.0,\n",
       " 0,\n",
       " 0,\n",
       " 0,\n",
       " 0,\n",
       " 0,\n",
       " 97.0,\n",
       " 0,\n",
       " 0,\n",
       " 0,\n",
       " 0,\n",
       " -25.0,\n",
       " 144.0,\n",
       " 38.0,\n",
       " -24.0,\n",
       " 0,\n",
       " 38.0,\n",
       " 0,\n",
       " 46.0,\n",
       " 0,\n",
       " 0,\n",
       " 0,\n",
       " 18.0,\n",
       " 0,\n",
       " 0,\n",
       " 0,\n",
       " 0,\n",
       " 21.0,\n",
       " 22.0,\n",
       " 0,\n",
       " 0,\n",
       " 460.0,\n",
       " 0,\n",
       " 233.0,\n",
       " 0,\n",
       " 0,\n",
       " 19.0,\n",
       " 0,\n",
       " 0,\n",
       " 0,\n",
       " 39.0,\n",
       " 0,\n",
       " -21.0,\n",
       " 0,\n",
       " -80.0,\n",
       " -42.0,\n",
       " 30.0]"
      ]
     },
     "execution_count": 9,
     "metadata": {},
     "output_type": "execute_result"
    }
   ],
   "source": [
    "decisions"
   ]
  },
  {
   "cell_type": "code",
   "execution_count": 4,
   "metadata": {
    "collapsed": true
   },
   "outputs": [],
   "source": [
    "def make_transactions(decisions, actual, tickers, portfolio):\n",
    "    transactions = [] # Each entry will be ticker, price, amount, sell/buy\n",
    "    for i, ticker in enumerate(tickers):\n",
    "        if decision[i] == 0:\n",
    "            for position in portfolio:\n",
    "                if ticker == position[0]:\n",
    "                    transactions.append([ticker, actual[i], -position[1], 'no position'])\n",
    "        else:\n",
    "            if decision[i] > 0:\n",
    "                transactions.append([ticker, actual[i], decision[i], 'buy'])\n",
    "            if decision[i] < 0:\n",
    "                transactions.append([ticker, actual[i], -1*decision[i], 'sell'])\n",
    "    return transactions"
   ]
  },
  {
   "cell_type": "code",
   "execution_count": 7,
   "metadata": {
    "collapsed": true
   },
   "outputs": [],
   "source": [
    "from datetime import date\n",
    "import datetime\n",
    "import matplotlib.pyplot as plt\n",
    "from pandas_datareader._utils import RemoteDataError\n",
    "\n",
    "# Analytics for predictions \n",
    "def prediction_analytics(tickers, end_date=None, numdays=5):\n",
    "    '''\n",
    "    \n",
    "    '''\n",
    "    if end_date == None: # Use yesterday\n",
    "        base = str((datetime.datetime.today() - datetime.timedelta(1)).date())\n",
    "    else:\n",
    "        base = end_date\n",
    "    date_list = pd.date_range(end=base, periods = numdays, freq='B')\n",
    "    csvs = []\n",
    "    for date in date_list:\n",
    "        csvs.append('company_stats_' + str(date.date()) + '.csv')\n",
    "    \n",
    "    # Get the models to predict the prices for each date\n",
    "    models = {} # Store models as date:model\n",
    "    for i, csv in enumerate(csvs):\n",
    "            try:\n",
    "                models[date_list[i]] = train_and_get_model(filename=csv, verbose=0)\n",
    "            except FileNotFoundError:\n",
    "                print(csv + ' was not found. Data from that day will be excluded.')\n",
    "            except ValueError:\n",
    "                print(csv + ' was not found. Data from that day will be excluded.')\n",
    "                \n",
    "    # Calculate actual and predicted prices for each ticker over time period\n",
    "    actual_prices = {}\n",
    "    predicted_prices = {}\n",
    "    for ticker in tickers:\n",
    "        try:\n",
    "            print('Analytics for ' + ticker)\n",
    "            #print(\"getting price data for: \" + str(date_list[0].date()) + ' to ' + str(date_list[len(date_list)-1].date()))\n",
    "            price_data = get_price_data(ticker, date_list[0].date(), date_list[len(date_list) - 1].date())['Open']\n",
    "            pred_prices = []\n",
    "            # Loop through dates instead!\n",
    "            for date in date_list:\n",
    "                print('Predicting Price for ' + ticker + ' for model on ' + str(date))\n",
    "                if date in models:\n",
    "                    p = predict_price(ticker, model=models[date])\n",
    "                else:\n",
    "                    p = float('nan')\n",
    "                pred_prices.append(p)\n",
    "            actual_prices[ticker] = price_data\n",
    "            predicted_prices[ticker] = pred_prices\n",
    "            # Plot the actual prices over time\n",
    "            a, = plt.plot(list(price_data.index), list(price_data))\n",
    "            p, = plt.plot(list(price_data.index), pred_prices)\n",
    "            plt.legend([a, p], ['Actual', 'Predicted'])\n",
    "            plt.title('Actual vs Predicted Price Over Time For ' + ticker)\n",
    "            # Plot the predicted prices over time\n",
    "            plt.show()\n",
    "        except IndexError:\n",
    "            print('IndexError for ' + ticker)\n",
    "        except RemoteDataError:\n",
    "            print(\"RemoteDataError for \" + ticker)"
   ]
  },
  {
   "cell_type": "code",
   "execution_count": 11,
   "metadata": {
    "collapsed": false
   },
   "outputs": [
    {
     "name": "stdout",
     "output_type": "stream",
     "text": [
      "company_stats_2019-09-13.csv was not found. Data from that day will be excluded.\n",
      "company_stats_2019-09-23.csv was not found. Data from that day will be excluded.\n",
      "Analytics for PIH\n",
      "Predicting Price for PIH for model 0\n",
      "Predicting Price for PIH for model 1\n",
      "Predicting Price for PIH for model 2\n",
      "Predicting Price for PIH for model 3\n",
      "Predicting Price for PIH for model 4\n",
      "Predicting Price for PIH for model 5\n"
     ]
    },
    {
     "ename": "ValueError",
     "evalue": "x and y must have same first dimension, but have shapes (8,) and (6,)",
     "output_type": "error",
     "traceback": [
      "\u001b[1;31m---------------------------------------------------------------------------\u001b[0m",
      "\u001b[1;31mValueError\u001b[0m                                Traceback (most recent call last)",
      "\u001b[1;32m<ipython-input-11-cb5573b9c4c8>\u001b[0m in \u001b[0;36m<module>\u001b[1;34m()\u001b[0m\n\u001b[1;32m----> 1\u001b[1;33m \u001b[0mprediction_analytics\u001b[0m\u001b[1;33m(\u001b[0m\u001b[0mtickers\u001b[0m\u001b[1;33m,\u001b[0m \u001b[0mend_date\u001b[0m\u001b[1;33m=\u001b[0m\u001b[1;34m'2019-09-24'\u001b[0m\u001b[1;33m,\u001b[0m \u001b[0mnumdays\u001b[0m\u001b[1;33m=\u001b[0m\u001b[1;36m8\u001b[0m\u001b[1;33m)\u001b[0m\u001b[1;33m\u001b[0m\u001b[0m\n\u001b[0m",
      "\u001b[1;32m<ipython-input-7-75ae2faeb082>\u001b[0m in \u001b[0;36mprediction_analytics\u001b[1;34m(tickers, end_date, numdays)\u001b[0m\n\u001b[0;32m     45\u001b[0m             \u001b[1;31m# Plot the actual prices over time\u001b[0m\u001b[1;33m\u001b[0m\u001b[1;33m\u001b[0m\u001b[0m\n\u001b[0;32m     46\u001b[0m             \u001b[0ma\u001b[0m\u001b[1;33m,\u001b[0m \u001b[1;33m=\u001b[0m \u001b[0mplt\u001b[0m\u001b[1;33m.\u001b[0m\u001b[0mplot\u001b[0m\u001b[1;33m(\u001b[0m\u001b[0mlist\u001b[0m\u001b[1;33m(\u001b[0m\u001b[0mprice_data\u001b[0m\u001b[1;33m.\u001b[0m\u001b[0mindex\u001b[0m\u001b[1;33m)\u001b[0m\u001b[1;33m,\u001b[0m \u001b[0mlist\u001b[0m\u001b[1;33m(\u001b[0m\u001b[0mprice_data\u001b[0m\u001b[1;33m)\u001b[0m\u001b[1;33m)\u001b[0m\u001b[1;33m\u001b[0m\u001b[0m\n\u001b[1;32m---> 47\u001b[1;33m             \u001b[0mp\u001b[0m\u001b[1;33m,\u001b[0m \u001b[1;33m=\u001b[0m \u001b[0mplt\u001b[0m\u001b[1;33m.\u001b[0m\u001b[0mplot\u001b[0m\u001b[1;33m(\u001b[0m\u001b[0mlist\u001b[0m\u001b[1;33m(\u001b[0m\u001b[0mprice_data\u001b[0m\u001b[1;33m.\u001b[0m\u001b[0mindex\u001b[0m\u001b[1;33m)\u001b[0m\u001b[1;33m,\u001b[0m \u001b[0mpred_prices\u001b[0m\u001b[1;33m)\u001b[0m\u001b[1;33m\u001b[0m\u001b[0m\n\u001b[0m\u001b[0;32m     48\u001b[0m             \u001b[0mplt\u001b[0m\u001b[1;33m.\u001b[0m\u001b[0mlegend\u001b[0m\u001b[1;33m(\u001b[0m\u001b[1;33m[\u001b[0m\u001b[0ma\u001b[0m\u001b[1;33m,\u001b[0m \u001b[0mp\u001b[0m\u001b[1;33m]\u001b[0m\u001b[1;33m,\u001b[0m \u001b[1;33m[\u001b[0m\u001b[1;34m'Actual'\u001b[0m\u001b[1;33m,\u001b[0m \u001b[1;34m'Predicted'\u001b[0m\u001b[1;33m]\u001b[0m\u001b[1;33m)\u001b[0m\u001b[1;33m\u001b[0m\u001b[0m\n\u001b[0;32m     49\u001b[0m             \u001b[0mplt\u001b[0m\u001b[1;33m.\u001b[0m\u001b[0mtitle\u001b[0m\u001b[1;33m(\u001b[0m\u001b[1;34m'Actual vs Predicted Price Over Time For '\u001b[0m \u001b[1;33m+\u001b[0m \u001b[0mticker\u001b[0m\u001b[1;33m)\u001b[0m\u001b[1;33m\u001b[0m\u001b[0m\n",
      "\u001b[1;32mC:\\Users\\kevin\\Anaconda3\\lib\\site-packages\\matplotlib\\pyplot.py\u001b[0m in \u001b[0;36mplot\u001b[1;34m(*args, **kwargs)\u001b[0m\n\u001b[0;32m   3356\u001b[0m                       mplDeprecation)\n\u001b[0;32m   3357\u001b[0m     \u001b[1;32mtry\u001b[0m\u001b[1;33m:\u001b[0m\u001b[1;33m\u001b[0m\u001b[0m\n\u001b[1;32m-> 3358\u001b[1;33m         \u001b[0mret\u001b[0m \u001b[1;33m=\u001b[0m \u001b[0max\u001b[0m\u001b[1;33m.\u001b[0m\u001b[0mplot\u001b[0m\u001b[1;33m(\u001b[0m\u001b[1;33m*\u001b[0m\u001b[0margs\u001b[0m\u001b[1;33m,\u001b[0m \u001b[1;33m**\u001b[0m\u001b[0mkwargs\u001b[0m\u001b[1;33m)\u001b[0m\u001b[1;33m\u001b[0m\u001b[0m\n\u001b[0m\u001b[0;32m   3359\u001b[0m     \u001b[1;32mfinally\u001b[0m\u001b[1;33m:\u001b[0m\u001b[1;33m\u001b[0m\u001b[0m\n\u001b[0;32m   3360\u001b[0m         \u001b[0max\u001b[0m\u001b[1;33m.\u001b[0m\u001b[0m_hold\u001b[0m \u001b[1;33m=\u001b[0m \u001b[0mwashold\u001b[0m\u001b[1;33m\u001b[0m\u001b[0m\n",
      "\u001b[1;32mC:\\Users\\kevin\\Anaconda3\\lib\\site-packages\\matplotlib\\__init__.py\u001b[0m in \u001b[0;36minner\u001b[1;34m(ax, *args, **kwargs)\u001b[0m\n\u001b[0;32m   1853\u001b[0m                         \u001b[1;34m\"the Matplotlib list!)\"\u001b[0m \u001b[1;33m%\u001b[0m \u001b[1;33m(\u001b[0m\u001b[0mlabel_namer\u001b[0m\u001b[1;33m,\u001b[0m \u001b[0mfunc\u001b[0m\u001b[1;33m.\u001b[0m\u001b[0m__name__\u001b[0m\u001b[1;33m)\u001b[0m\u001b[1;33m,\u001b[0m\u001b[1;33m\u001b[0m\u001b[0m\n\u001b[0;32m   1854\u001b[0m                         RuntimeWarning, stacklevel=2)\n\u001b[1;32m-> 1855\u001b[1;33m             \u001b[1;32mreturn\u001b[0m \u001b[0mfunc\u001b[0m\u001b[1;33m(\u001b[0m\u001b[0max\u001b[0m\u001b[1;33m,\u001b[0m \u001b[1;33m*\u001b[0m\u001b[0margs\u001b[0m\u001b[1;33m,\u001b[0m \u001b[1;33m**\u001b[0m\u001b[0mkwargs\u001b[0m\u001b[1;33m)\u001b[0m\u001b[1;33m\u001b[0m\u001b[0m\n\u001b[0m\u001b[0;32m   1856\u001b[0m \u001b[1;33m\u001b[0m\u001b[0m\n\u001b[0;32m   1857\u001b[0m         inner.__doc__ = _add_data_doc(inner.__doc__,\n",
      "\u001b[1;32mC:\\Users\\kevin\\Anaconda3\\lib\\site-packages\\matplotlib\\axes\\_axes.py\u001b[0m in \u001b[0;36mplot\u001b[1;34m(self, *args, **kwargs)\u001b[0m\n\u001b[0;32m   1525\u001b[0m         \u001b[0mkwargs\u001b[0m \u001b[1;33m=\u001b[0m \u001b[0mcbook\u001b[0m\u001b[1;33m.\u001b[0m\u001b[0mnormalize_kwargs\u001b[0m\u001b[1;33m(\u001b[0m\u001b[0mkwargs\u001b[0m\u001b[1;33m,\u001b[0m \u001b[0m_alias_map\u001b[0m\u001b[1;33m)\u001b[0m\u001b[1;33m\u001b[0m\u001b[0m\n\u001b[0;32m   1526\u001b[0m \u001b[1;33m\u001b[0m\u001b[0m\n\u001b[1;32m-> 1527\u001b[1;33m         \u001b[1;32mfor\u001b[0m \u001b[0mline\u001b[0m \u001b[1;32min\u001b[0m \u001b[0mself\u001b[0m\u001b[1;33m.\u001b[0m\u001b[0m_get_lines\u001b[0m\u001b[1;33m(\u001b[0m\u001b[1;33m*\u001b[0m\u001b[0margs\u001b[0m\u001b[1;33m,\u001b[0m \u001b[1;33m**\u001b[0m\u001b[0mkwargs\u001b[0m\u001b[1;33m)\u001b[0m\u001b[1;33m:\u001b[0m\u001b[1;33m\u001b[0m\u001b[0m\n\u001b[0m\u001b[0;32m   1528\u001b[0m             \u001b[0mself\u001b[0m\u001b[1;33m.\u001b[0m\u001b[0madd_line\u001b[0m\u001b[1;33m(\u001b[0m\u001b[0mline\u001b[0m\u001b[1;33m)\u001b[0m\u001b[1;33m\u001b[0m\u001b[0m\n\u001b[0;32m   1529\u001b[0m             \u001b[0mlines\u001b[0m\u001b[1;33m.\u001b[0m\u001b[0mappend\u001b[0m\u001b[1;33m(\u001b[0m\u001b[0mline\u001b[0m\u001b[1;33m)\u001b[0m\u001b[1;33m\u001b[0m\u001b[0m\n",
      "\u001b[1;32mC:\\Users\\kevin\\Anaconda3\\lib\\site-packages\\matplotlib\\axes\\_base.py\u001b[0m in \u001b[0;36m_grab_next_args\u001b[1;34m(self, *args, **kwargs)\u001b[0m\n\u001b[0;32m    404\u001b[0m                 \u001b[0mthis\u001b[0m \u001b[1;33m+=\u001b[0m \u001b[0margs\u001b[0m\u001b[1;33m[\u001b[0m\u001b[1;36m0\u001b[0m\u001b[1;33m]\u001b[0m\u001b[1;33m,\u001b[0m\u001b[1;33m\u001b[0m\u001b[0m\n\u001b[0;32m    405\u001b[0m                 \u001b[0margs\u001b[0m \u001b[1;33m=\u001b[0m \u001b[0margs\u001b[0m\u001b[1;33m[\u001b[0m\u001b[1;36m1\u001b[0m\u001b[1;33m:\u001b[0m\u001b[1;33m]\u001b[0m\u001b[1;33m\u001b[0m\u001b[0m\n\u001b[1;32m--> 406\u001b[1;33m             \u001b[1;32mfor\u001b[0m \u001b[0mseg\u001b[0m \u001b[1;32min\u001b[0m \u001b[0mself\u001b[0m\u001b[1;33m.\u001b[0m\u001b[0m_plot_args\u001b[0m\u001b[1;33m(\u001b[0m\u001b[0mthis\u001b[0m\u001b[1;33m,\u001b[0m \u001b[0mkwargs\u001b[0m\u001b[1;33m)\u001b[0m\u001b[1;33m:\u001b[0m\u001b[1;33m\u001b[0m\u001b[0m\n\u001b[0m\u001b[0;32m    407\u001b[0m                 \u001b[1;32myield\u001b[0m \u001b[0mseg\u001b[0m\u001b[1;33m\u001b[0m\u001b[0m\n\u001b[0;32m    408\u001b[0m \u001b[1;33m\u001b[0m\u001b[0m\n",
      "\u001b[1;32mC:\\Users\\kevin\\Anaconda3\\lib\\site-packages\\matplotlib\\axes\\_base.py\u001b[0m in \u001b[0;36m_plot_args\u001b[1;34m(self, tup, kwargs)\u001b[0m\n\u001b[0;32m    381\u001b[0m             \u001b[0mx\u001b[0m\u001b[1;33m,\u001b[0m \u001b[0my\u001b[0m \u001b[1;33m=\u001b[0m \u001b[0mindex_of\u001b[0m\u001b[1;33m(\u001b[0m\u001b[0mtup\u001b[0m\u001b[1;33m[\u001b[0m\u001b[1;33m-\u001b[0m\u001b[1;36m1\u001b[0m\u001b[1;33m]\u001b[0m\u001b[1;33m)\u001b[0m\u001b[1;33m\u001b[0m\u001b[0m\n\u001b[0;32m    382\u001b[0m \u001b[1;33m\u001b[0m\u001b[0m\n\u001b[1;32m--> 383\u001b[1;33m         \u001b[0mx\u001b[0m\u001b[1;33m,\u001b[0m \u001b[0my\u001b[0m \u001b[1;33m=\u001b[0m \u001b[0mself\u001b[0m\u001b[1;33m.\u001b[0m\u001b[0m_xy_from_xy\u001b[0m\u001b[1;33m(\u001b[0m\u001b[0mx\u001b[0m\u001b[1;33m,\u001b[0m \u001b[0my\u001b[0m\u001b[1;33m)\u001b[0m\u001b[1;33m\u001b[0m\u001b[0m\n\u001b[0m\u001b[0;32m    384\u001b[0m \u001b[1;33m\u001b[0m\u001b[0m\n\u001b[0;32m    385\u001b[0m         \u001b[1;32mif\u001b[0m \u001b[0mself\u001b[0m\u001b[1;33m.\u001b[0m\u001b[0mcommand\u001b[0m \u001b[1;33m==\u001b[0m \u001b[1;34m'plot'\u001b[0m\u001b[1;33m:\u001b[0m\u001b[1;33m\u001b[0m\u001b[0m\n",
      "\u001b[1;32mC:\\Users\\kevin\\Anaconda3\\lib\\site-packages\\matplotlib\\axes\\_base.py\u001b[0m in \u001b[0;36m_xy_from_xy\u001b[1;34m(self, x, y)\u001b[0m\n\u001b[0;32m    240\u001b[0m         \u001b[1;32mif\u001b[0m \u001b[0mx\u001b[0m\u001b[1;33m.\u001b[0m\u001b[0mshape\u001b[0m\u001b[1;33m[\u001b[0m\u001b[1;36m0\u001b[0m\u001b[1;33m]\u001b[0m \u001b[1;33m!=\u001b[0m \u001b[0my\u001b[0m\u001b[1;33m.\u001b[0m\u001b[0mshape\u001b[0m\u001b[1;33m[\u001b[0m\u001b[1;36m0\u001b[0m\u001b[1;33m]\u001b[0m\u001b[1;33m:\u001b[0m\u001b[1;33m\u001b[0m\u001b[0m\n\u001b[0;32m    241\u001b[0m             raise ValueError(\"x and y must have same first dimension, but \"\n\u001b[1;32m--> 242\u001b[1;33m                              \"have shapes {} and {}\".format(x.shape, y.shape))\n\u001b[0m\u001b[0;32m    243\u001b[0m         \u001b[1;32mif\u001b[0m \u001b[0mx\u001b[0m\u001b[1;33m.\u001b[0m\u001b[0mndim\u001b[0m \u001b[1;33m>\u001b[0m \u001b[1;36m2\u001b[0m \u001b[1;32mor\u001b[0m \u001b[0my\u001b[0m\u001b[1;33m.\u001b[0m\u001b[0mndim\u001b[0m \u001b[1;33m>\u001b[0m \u001b[1;36m2\u001b[0m\u001b[1;33m:\u001b[0m\u001b[1;33m\u001b[0m\u001b[0m\n\u001b[0;32m    244\u001b[0m             raise ValueError(\"x and y can be no greater than 2-D, but have \"\n",
      "\u001b[1;31mValueError\u001b[0m: x and y must have same first dimension, but have shapes (8,) and (6,)"
     ]
    }
   ],
   "source": [
    "prediction_analytics(tickers, end_date='2019-09-24', numdays=8)"
   ]
  },
  {
   "cell_type": "code",
   "execution_count": 12,
   "metadata": {
    "collapsed": false
   },
   "outputs": [
    {
     "data": {
      "text/plain": [
       "Date\n",
       "2019-09-16    47.360001\n",
       "2019-09-17    47.840000\n",
       "2019-09-18    47.540001\n",
       "2019-09-19    47.580002\n",
       "2019-09-20    47.180000\n",
       "Name: Open, dtype: float64"
      ]
     },
     "execution_count": 12,
     "metadata": {},
     "output_type": "execute_result"
    }
   ],
   "source": [
    "get_price_data('SRCE', '2019-09-16', '2019-09-20')['Open']"
   ]
  },
  {
   "cell_type": "code",
   "execution_count": null,
   "metadata": {
    "collapsed": true
   },
   "outputs": [],
   "source": []
  }
 ],
 "metadata": {
  "kernelspec": {
   "display_name": "Python 3",
   "language": "python",
   "name": "python3"
  },
  "language_info": {
   "codemirror_mode": {
    "name": "ipython",
    "version": 3
   },
   "file_extension": ".py",
   "mimetype": "text/x-python",
   "name": "python",
   "nbconvert_exporter": "python",
   "pygments_lexer": "ipython3",
   "version": "3.6.6"
  }
 },
 "nbformat": 4,
 "nbformat_minor": 2
}
