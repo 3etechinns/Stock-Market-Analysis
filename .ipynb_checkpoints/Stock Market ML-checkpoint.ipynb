{
 "cells": [
  {
   "cell_type": "code",
   "execution_count": 1,
   "metadata": {
    "collapsed": false
   },
   "outputs": [
    {
     "name": "stderr",
     "output_type": "stream",
     "text": [
      "C:\\Users\\kevin\\Anaconda3\\lib\\site-packages\\h5py\\__init__.py:36: FutureWarning: Conversion of the second argument of issubdtype from `float` to `np.floating` is deprecated. In future, it will be treated as `np.float64 == np.dtype(float).type`.\n",
      "  from ._conv import register_converters as _register_converters\n"
     ]
    }
   ],
   "source": [
    "from sklearn.ensemble import RandomForestRegressor\n",
    "from sklearn.model_selection import train_test_split\n",
    "import tensorflow as  tf"
   ]
  },
  {
   "cell_type": "code",
   "execution_count": null,
   "metadata": {
    "collapsed": true
   },
   "outputs": [],
   "source": [
    "financial_data = np.loadtxt(open(\"company_analysis.csv\", \"rb\"), delimiter=\",\", skiprows=1, usecols=(1,2,3,4,5,6,7,8,9))\n",
    "print(financial_data)"
   ]
  },
  {
   "cell_type": "code",
   "execution_count": null,
   "metadata": {
    "collapsed": true
   },
   "outputs": [],
   "source": [
    "csv = open(\"company_analysis.csv\", \"r\")\n",
    "working_tickers = np.loadtxt(open(\"company_analysis.csv\", \"rb\"), delimiter=\",\", skiprows=1, usecols=0, dtype=str)\n",
    "prices = []\n",
    "print(working_tickers)\n",
    "for i in range(len(working_tickers)):\n",
    "    prices.append(float(parse(working_tickers[i])['Open']))"
   ]
  },
  {
   "cell_type": "code",
   "execution_count": null,
   "metadata": {
    "collapsed": true
   },
   "outputs": [],
   "source": [
    "print(prices)\n",
    "X, y = make_classification(n_samples=1000, n_features=9, n_informative=5, random_state=0, shuffle=False)\n",
    "regr = RandomForestRegressor(n_estimators=100, max_depth=20, random_state=0)\n",
    "regr.fit(financial_data, prices)\n",
    "print(regr.feature_importances_)\n",
    "# cur_ratio, cur_ratio_av, cur_ratio_cmp_to_av, price_to_book, earning_growth, earning_growth_av, earning_growth_cmp_to_av, altman-zscore, div \n",
    "print(regr.predict([[1.85, 1.72, .13, 11.22, -0.04,-0.76, 0.726, 1.86, 0.0283 ]]))\n",
    "print(regr.predict([[1.85, 1.72, .13, 11.22, -0.04, 1.6, 3.26, 2.86, 0.0283 ]]))\n",
    "print(regr.predict([[2.0, 1, 1, 14, 2, 1, 1, 3, .03 ]]))"
   ]
  },
  {
   "cell_type": "code",
   "execution_count": null,
   "metadata": {
    "collapsed": true
   },
   "outputs": [],
   "source": [
    "(x_train, y_train, x_test, y_test) = train_test_split(financial_data, prices)\n",
    "model = tf.keras.models.Sequential([\n",
    "  tf.keras.layers.Flatten(),\n",
    "  tf.keras.layers.Dense(20, activation=tf.nn.relu),\n",
    "  tf.keras.layers.Dropout(0.2),\n",
    "  tf.keras.layers.Dense(1)\n",
    "])\n",
    "model.compile(optimizer='adam',\n",
    "              loss='sparse_categorical_crossentropy',\n",
    "              metrics=['accuracy'])\n",
    "\n",
    "model.fit(x_train, y_train, epochs=5)\n",
    "model.evaluate(x_test, y_test)"
   ]
  }
 ],
 "metadata": {
  "kernelspec": {
   "display_name": "Python 3",
   "language": "python",
   "name": "python3"
  },
  "language_info": {
   "codemirror_mode": {
    "name": "ipython",
    "version": 3
   },
   "file_extension": ".py",
   "mimetype": "text/x-python",
   "name": "python",
   "nbconvert_exporter": "python",
   "pygments_lexer": "ipython3",
   "version": "3.6.6"
  }
 },
 "nbformat": 4,
 "nbformat_minor": 2
}
