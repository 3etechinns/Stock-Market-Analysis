{
 "cells": [
  {
   "cell_type": "code",
   "execution_count": 1,
   "metadata": {
    "collapsed": false
   },
   "outputs": [
    {
     "name": "stderr",
     "output_type": "stream",
     "text": [
      "C:\\Users\\kevin\\Anaconda3\\lib\\site-packages\\h5py\\__init__.py:36: FutureWarning: Conversion of the second argument of issubdtype from `float` to `np.floating` is deprecated. In future, it will be treated as `np.float64 == np.dtype(float).type`.\n",
      "  from ._conv import register_converters as _register_converters\n"
     ]
    }
   ],
   "source": [
    "# Imports\n",
    "from sklearn.ensemble import RandomForestRegressor\n",
    "from sklearn.model_selection import train_test_split\n",
    "import tensorflow as  tf\n",
    "import numpy as np\n",
    "import pandas as pd\n",
    "import xgboost as xgb\n",
    "from sklearn.metrics import mean_squared_error"
   ]
  },
  {
   "cell_type": "code",
   "execution_count": 2,
   "metadata": {
    "collapsed": false
   },
   "outputs": [
    {
     "data": {
      "text/html": [
       "<div>\n",
       "<style scoped>\n",
       "    .dataframe tbody tr th:only-of-type {\n",
       "        vertical-align: middle;\n",
       "    }\n",
       "\n",
       "    .dataframe tbody tr th {\n",
       "        vertical-align: top;\n",
       "    }\n",
       "\n",
       "    .dataframe thead th {\n",
       "        text-align: right;\n",
       "    }\n",
       "</style>\n",
       "<table border=\"1\" class=\"dataframe\">\n",
       "  <thead>\n",
       "    <tr style=\"text-align: right;\">\n",
       "      <th></th>\n",
       "      <th>Ticker</th>\n",
       "      <th>Name</th>\n",
       "      <th>Sector</th>\n",
       "      <th>Industry</th>\n",
       "      <th>IPO Year</th>\n",
       "      <th>Price</th>\n",
       "      <th>Market Cap</th>\n",
       "      <th>Trailing P/E</th>\n",
       "      <th>Forward P/E</th>\n",
       "      <th>PEG Ratio(5yr Expected)</th>\n",
       "      <th>...</th>\n",
       "      <th>Operating Cash Flow(TTM)</th>\n",
       "      <th>Levered Free Cash Flow(TTM)</th>\n",
       "      <th>Beta(3Y Monthly)</th>\n",
       "      <th>Shares Outstanding</th>\n",
       "      <th>Forward Annual Dividend Rate</th>\n",
       "      <th>Forward Annual Dividend Yield</th>\n",
       "      <th>Trailing Annual Dividend Rate</th>\n",
       "      <th>Trailing Annual Dividend Yield</th>\n",
       "      <th>5 Year Average Dividend Yield</th>\n",
       "      <th>Payout Ratio</th>\n",
       "    </tr>\n",
       "  </thead>\n",
       "  <tbody>\n",
       "    <tr>\n",
       "      <th>0</th>\n",
       "      <td>PIH</td>\n",
       "      <td>1347 Property Insurance Holdings, Inc.</td>\n",
       "      <td>Finance</td>\n",
       "      <td>Property-Casualty Insurers</td>\n",
       "      <td>2014.0</td>\n",
       "      <td>5.00</td>\n",
       "      <td>3.030400e+07</td>\n",
       "      <td>NaN</td>\n",
       "      <td>4.38</td>\n",
       "      <td>NaN</td>\n",
       "      <td>...</td>\n",
       "      <td>24790000.0</td>\n",
       "      <td>26710000.0</td>\n",
       "      <td>0.97</td>\n",
       "      <td>6010000.0</td>\n",
       "      <td>NaN</td>\n",
       "      <td>NaN</td>\n",
       "      <td>NaN</td>\n",
       "      <td>NaN</td>\n",
       "      <td>NaN</td>\n",
       "      <td>0.00</td>\n",
       "    </tr>\n",
       "    <tr>\n",
       "      <th>1</th>\n",
       "      <td>TURN</td>\n",
       "      <td>180 Degree Capital Corp.</td>\n",
       "      <td>Finance</td>\n",
       "      <td>Finance/Investors Services</td>\n",
       "      <td>NaN</td>\n",
       "      <td>1.95</td>\n",
       "      <td>6.131000e+07</td>\n",
       "      <td>61.56</td>\n",
       "      <td>NaN</td>\n",
       "      <td>NaN</td>\n",
       "      <td>...</td>\n",
       "      <td>4350000.0</td>\n",
       "      <td>-2310000.0</td>\n",
       "      <td>0.76</td>\n",
       "      <td>31120000.0</td>\n",
       "      <td>NaN</td>\n",
       "      <td>NaN</td>\n",
       "      <td>NaN</td>\n",
       "      <td>NaN</td>\n",
       "      <td>NaN</td>\n",
       "      <td>0.00</td>\n",
       "    </tr>\n",
       "    <tr>\n",
       "      <th>2</th>\n",
       "      <td>FLWS</td>\n",
       "      <td>1-800 FLOWERS.COM, Inc.</td>\n",
       "      <td>Consumer Services</td>\n",
       "      <td>Other Specialty Stores</td>\n",
       "      <td>1999.0</td>\n",
       "      <td>20.24</td>\n",
       "      <td>1.311000e+09</td>\n",
       "      <td>38.69</td>\n",
       "      <td>34.63</td>\n",
       "      <td>4.10</td>\n",
       "      <td>...</td>\n",
       "      <td>90770000.0</td>\n",
       "      <td>42390000.0</td>\n",
       "      <td>1.12</td>\n",
       "      <td>35620000.0</td>\n",
       "      <td>NaN</td>\n",
       "      <td>NaN</td>\n",
       "      <td>NaN</td>\n",
       "      <td>NaN</td>\n",
       "      <td>NaN</td>\n",
       "      <td>0.00</td>\n",
       "    </tr>\n",
       "    <tr>\n",
       "      <th>3</th>\n",
       "      <td>FCCY</td>\n",
       "      <td>1st Constitution Bancorp (NJ)</td>\n",
       "      <td>Finance</td>\n",
       "      <td>Savings Institutions</td>\n",
       "      <td>NaN</td>\n",
       "      <td>18.82</td>\n",
       "      <td>1.639470e+08</td>\n",
       "      <td>13.10</td>\n",
       "      <td>12.10</td>\n",
       "      <td>1.51</td>\n",
       "      <td>...</td>\n",
       "      <td>NaN</td>\n",
       "      <td>NaN</td>\n",
       "      <td>0.20</td>\n",
       "      <td>8630000.0</td>\n",
       "      <td>0.30</td>\n",
       "      <td>1.60</td>\n",
       "      <td>0.28</td>\n",
       "      <td>1.51</td>\n",
       "      <td>NaN</td>\n",
       "      <td>18.21</td>\n",
       "    </tr>\n",
       "    <tr>\n",
       "      <th>4</th>\n",
       "      <td>SRCE</td>\n",
       "      <td>1st Source Corporation</td>\n",
       "      <td>Finance</td>\n",
       "      <td>Major Banks</td>\n",
       "      <td>NaN</td>\n",
       "      <td>48.05</td>\n",
       "      <td>1.233000e+09</td>\n",
       "      <td>14.64</td>\n",
       "      <td>12.81</td>\n",
       "      <td>1.34</td>\n",
       "      <td>...</td>\n",
       "      <td>142330000.0</td>\n",
       "      <td>NaN</td>\n",
       "      <td>1.50</td>\n",
       "      <td>25670000.0</td>\n",
       "      <td>1.08</td>\n",
       "      <td>2.31</td>\n",
       "      <td>1.04</td>\n",
       "      <td>2.14</td>\n",
       "      <td>1.95</td>\n",
       "      <td>30.70</td>\n",
       "    </tr>\n",
       "  </tbody>\n",
       "</table>\n",
       "<p>5 rows × 41 columns</p>\n",
       "</div>"
      ],
      "text/plain": [
       "  Ticker                                    Name             Sector  \\\n",
       "0    PIH  1347 Property Insurance Holdings, Inc.            Finance   \n",
       "1   TURN                180 Degree Capital Corp.            Finance   \n",
       "2   FLWS                 1-800 FLOWERS.COM, Inc.  Consumer Services   \n",
       "3   FCCY           1st Constitution Bancorp (NJ)            Finance   \n",
       "4   SRCE                  1st Source Corporation            Finance   \n",
       "\n",
       "                     Industry  IPO Year  Price    Market Cap  Trailing P/E  \\\n",
       "0  Property-Casualty Insurers    2014.0   5.00  3.030400e+07           NaN   \n",
       "1  Finance/Investors Services       NaN   1.95  6.131000e+07         61.56   \n",
       "2      Other Specialty Stores    1999.0  20.24  1.311000e+09         38.69   \n",
       "3        Savings Institutions       NaN  18.82  1.639470e+08         13.10   \n",
       "4                 Major Banks       NaN  48.05  1.233000e+09         14.64   \n",
       "\n",
       "   Forward P/E  PEG Ratio(5yr Expected)      ...       \\\n",
       "0         4.38                      NaN      ...        \n",
       "1          NaN                      NaN      ...        \n",
       "2        34.63                     4.10      ...        \n",
       "3        12.10                     1.51      ...        \n",
       "4        12.81                     1.34      ...        \n",
       "\n",
       "   Operating Cash Flow(TTM)  Levered Free Cash Flow(TTM)  Beta(3Y Monthly)  \\\n",
       "0                24790000.0                   26710000.0              0.97   \n",
       "1                 4350000.0                   -2310000.0              0.76   \n",
       "2                90770000.0                   42390000.0              1.12   \n",
       "3                       NaN                          NaN              0.20   \n",
       "4               142330000.0                          NaN              1.50   \n",
       "\n",
       "   Shares Outstanding  Forward Annual Dividend Rate  \\\n",
       "0           6010000.0                           NaN   \n",
       "1          31120000.0                           NaN   \n",
       "2          35620000.0                           NaN   \n",
       "3           8630000.0                          0.30   \n",
       "4          25670000.0                          1.08   \n",
       "\n",
       "   Forward Annual Dividend Yield  Trailing Annual Dividend Rate  \\\n",
       "0                            NaN                            NaN   \n",
       "1                            NaN                            NaN   \n",
       "2                            NaN                            NaN   \n",
       "3                           1.60                           0.28   \n",
       "4                           2.31                           1.04   \n",
       "\n",
       "   Trailing Annual Dividend Yield  5 Year Average Dividend Yield  Payout Ratio  \n",
       "0                             NaN                            NaN          0.00  \n",
       "1                             NaN                            NaN          0.00  \n",
       "2                             NaN                            NaN          0.00  \n",
       "3                            1.51                            NaN         18.21  \n",
       "4                            2.14                           1.95         30.70  \n",
       "\n",
       "[5 rows x 41 columns]"
      ]
     },
     "execution_count": 2,
     "metadata": {},
     "output_type": "execute_result"
    }
   ],
   "source": [
    "financial_data = pd.read_csv(\"company_statistics.csv\")\n",
    "financial_data.head()"
   ]
  },
  {
   "cell_type": "markdown",
   "metadata": {},
   "source": [
    "Lets form our X matrix, which will consist of company statistics"
   ]
  },
  {
   "cell_type": "code",
   "execution_count": 3,
   "metadata": {
    "collapsed": false
   },
   "outputs": [
    {
     "name": "stdout",
     "output_type": "stream",
     "text": [
      "[[ 3.03040e+07          nan  4.38000e+00 ...          nan          nan\n",
      "   0.00000e+00]\n",
      " [ 6.13100e+07  6.15600e+01          nan ...          nan          nan\n",
      "   0.00000e+00]\n",
      " [ 1.31100e+09  3.86900e+01  3.46300e+01 ...          nan          nan\n",
      "   0.00000e+00]\n",
      " ...\n",
      " [ 2.31987e+08          nan          nan ...          nan          nan\n",
      "   0.00000e+00]\n",
      " [ 1.18280e+10  8.39000e+00  1.80700e+01 ...          nan          nan\n",
      "   0.00000e+00]\n",
      " [ 1.86427e+08          nan -2.11400e+01 ...          nan          nan\n",
      "   0.00000e+00]]\n"
     ]
    }
   ],
   "source": [
    "to_remove = ['Ticker', 'Name', 'Sector', 'Industry', 'IPO Year', 'Price']\n",
    "cols = list(financial_data.columns)\n",
    "for item in to_remove:\n",
    "    cols.remove(item)\n",
    "X = financial_data[cols].values\n",
    "print(X)"
   ]
  },
  {
   "cell_type": "markdown",
   "metadata": {},
   "source": [
    "Now lets form our Y matrix, which will consist of the company prices that the model is going to learn. "
   ]
  },
  {
   "cell_type": "code",
   "execution_count": 4,
   "metadata": {
    "collapsed": false
   },
   "outputs": [
    {
     "name": "stdout",
     "output_type": "stream",
     "text": [
      "[ 5.    1.95 20.24 ...  3.5  36.69  4.55]\n"
     ]
    }
   ],
   "source": [
    "Y = financial_data['Price'].values\n",
    "print(Y)"
   ]
  },
  {
   "cell_type": "markdown",
   "metadata": {},
   "source": [
    "Now lets train an XGBRegressor Model on the data"
   ]
  },
  {
   "cell_type": "code",
   "execution_count": 7,
   "metadata": {
    "collapsed": false
   },
   "outputs": [],
   "source": [
    "data_dmatrix = xgb.DMatrix(data=X,label=Y)"
   ]
  },
  {
   "cell_type": "code",
   "execution_count": 8,
   "metadata": {
    "collapsed": true
   },
   "outputs": [],
   "source": [
    "X_train, X_test, y_train, y_test = train_test_split(X, Y, test_size=0.2, random_state=123)"
   ]
  },
  {
   "cell_type": "code",
   "execution_count": 9,
   "metadata": {
    "collapsed": true
   },
   "outputs": [],
   "source": [
    "xg_reg = xgb.XGBRegressor(objective ='reg:linear', colsample_bytree = 0.3, learning_rate = 0.1,\n",
    "                max_depth = 5, alpha = 10, n_estimators = 10)"
   ]
  },
  {
   "cell_type": "code",
   "execution_count": 10,
   "metadata": {
    "collapsed": false
   },
   "outputs": [
    {
     "data": {
      "text/plain": [
       "XGBRegressor(alpha=10, base_score=0.5, booster='gbtree', colsample_bylevel=1,\n",
       "       colsample_bytree=0.3, gamma=0, importance_type='gain',\n",
       "       learning_rate=0.1, max_delta_step=0, max_depth=5,\n",
       "       min_child_weight=1, missing=None, n_estimators=10, n_jobs=1,\n",
       "       nthread=None, objective='reg:linear', random_state=0, reg_alpha=0,\n",
       "       reg_lambda=1, scale_pos_weight=1, seed=None, silent=True,\n",
       "       subsample=1)"
      ]
     },
     "execution_count": 10,
     "metadata": {},
     "output_type": "execute_result"
    }
   ],
   "source": [
    "xg_reg.fit(X_train,y_train)"
   ]
  },
  {
   "cell_type": "markdown",
   "metadata": {},
   "source": [
    "Now lets see how we did on the test set"
   ]
  },
  {
   "cell_type": "code",
   "execution_count": 11,
   "metadata": {
    "collapsed": true
   },
   "outputs": [],
   "source": [
    "preds = xg_reg.predict(X_test)"
   ]
  },
  {
   "cell_type": "code",
   "execution_count": 12,
   "metadata": {
    "collapsed": true
   },
   "outputs": [],
   "source": [
    "rmse = np.sqrt(mean_squared_error(y_test, preds))"
   ]
  },
  {
   "cell_type": "code",
   "execution_count": 13,
   "metadata": {
    "collapsed": false
   },
   "outputs": [
    {
     "name": "stdout",
     "output_type": "stream",
     "text": [
      "RMSE: 47.579664\n"
     ]
    }
   ],
   "source": [
    "print(\"RMSE: %f\" % (rmse))"
   ]
  },
  {
   "cell_type": "markdown",
   "metadata": {},
   "source": [
    "## Using XGBoost to Predict stock market prices given a companies summary statistics"
   ]
  },
  {
   "cell_type": "code",
   "execution_count": 17,
   "metadata": {
    "collapsed": true
   },
   "outputs": [],
   "source": [
    "from market import *"
   ]
  },
  {
   "cell_type": "code",
   "execution_count": 33,
   "metadata": {
    "collapsed": true
   },
   "outputs": [],
   "source": [
    "def predict_price(ticker):\n",
    "    attributes = ['Market Cap (intraday)','Trailing P/E','Forward P/E','PEG Ratio (5 yr expected)','Price/Sales','Price/Book',\n",
    "                  'Enterprise Value/Revenue','Enterprise Value/EBITDA','Profit Margin','Operating Margin',\n",
    "                  'Return on Assets','Return on Equity','Revenue','Revenue Per Share',\n",
    "                  'Quarterly Revenue Growth','Gross Profit','EBITDA','Diluted EPS',\n",
    "                  'Quarterly Earnings Growth','Total Cash','Total Cash Per Share','Total Debt',\n",
    "                  'Total Debt/Equity','Current Ratio','Book Value Per Share','Operating Cash Flow',\n",
    "                  'Levered Free Cash Flow','Beta (3Y Monthly)','Shares Outstanding','Forward Annual Dividend Rate',\n",
    "                  'Forward Annual Dividend Yield','Trailing Annual Dividend Rate','Trailing Annual Dividend Yield',\n",
    "                  '5 Year Average Dividend Yield','Payout Ratio']\n",
    "    stats = get_summary_statistics(ticker)\n",
    "    x = []\n",
    "    for a in attributes:\n",
    "        x.append(str_to_num(stats[a]))\n",
    "    price = xg_reg.predict([x])\n",
    "    return price[0]"
   ]
  },
  {
   "cell_type": "markdown",
   "metadata": {},
   "source": [
    "Lets predict the price for Sony, which is outside of our training set."
   ]
  },
  {
   "cell_type": "code",
   "execution_count": 38,
   "metadata": {
    "collapsed": false
   },
   "outputs": [
    {
     "data": {
      "text/plain": [
       "30.128168"
      ]
     },
     "execution_count": 38,
     "metadata": {},
     "output_type": "execute_result"
    }
   ],
   "source": [
    "predict_price(\"SNE\")"
   ]
  },
  {
   "cell_type": "markdown",
   "metadata": {},
   "source": [
    "## Using a Neural Net to Predict Prices "
   ]
  },
  {
   "cell_type": "code",
   "execution_count": null,
   "metadata": {
    "collapsed": true
   },
   "outputs": [],
   "source": [
    "(x_train, y_train, x_test, y_test) = train_test_split(financial_data, prices)\n",
    "model = tf.keras.models.Sequential([\n",
    "  tf.keras.layers.Flatten(),\n",
    "  tf.keras.layers.Dense(20, activation=tf.nn.relu),\n",
    "  tf.keras.layers.Dropout(0.2),\n",
    "  tf.keras.layers.Dense(1)\n",
    "])\n",
    "model.compile(optimizer='adam',\n",
    "              loss='sparse_categorical_crossentropy',\n",
    "              metrics=['accuracy'])\n",
    "\n",
    "model.fit(x_train, y_train, epochs=5)\n",
    "model.evaluate(x_test, y_test)"
   ]
  }
 ],
 "metadata": {
  "kernelspec": {
   "display_name": "Python 3",
   "language": "python",
   "name": "python3"
  },
  "language_info": {
   "codemirror_mode": {
    "name": "ipython",
    "version": 3
   },
   "file_extension": ".py",
   "mimetype": "text/x-python",
   "name": "python",
   "nbconvert_exporter": "python",
   "pygments_lexer": "ipython3",
   "version": "3.6.6"
  }
 },
 "nbformat": 4,
 "nbformat_minor": 2
}
