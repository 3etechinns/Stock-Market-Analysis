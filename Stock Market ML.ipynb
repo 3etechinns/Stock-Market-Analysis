{
 "cells": [
  {
   "cell_type": "code",
   "execution_count": 11,
   "metadata": {
    "collapsed": false
   },
   "outputs": [],
   "source": [
    "# Imports\n",
    "from sklearn.ensemble import RandomForestRegressor\n",
    "from sklearn.model_selection import train_test_split\n",
    "import tensorflow as  tf\n",
    "import numpy as np\n",
    "import pandas as pd\n",
    "import xgboost as xgb\n",
    "from sklearn.metrics import mean_squared_error\n",
    "import pickle as pkl"
   ]
  },
  {
   "cell_type": "code",
   "execution_count": 5,
   "metadata": {
    "collapsed": false
   },
   "outputs": [
    {
     "data": {
      "text/html": [
       "<div>\n",
       "<style scoped>\n",
       "    .dataframe tbody tr th:only-of-type {\n",
       "        vertical-align: middle;\n",
       "    }\n",
       "\n",
       "    .dataframe tbody tr th {\n",
       "        vertical-align: top;\n",
       "    }\n",
       "\n",
       "    .dataframe thead th {\n",
       "        text-align: right;\n",
       "    }\n",
       "</style>\n",
       "<table border=\"1\" class=\"dataframe\">\n",
       "  <thead>\n",
       "    <tr style=\"text-align: right;\">\n",
       "      <th></th>\n",
       "      <th>Ticker</th>\n",
       "      <th>Name</th>\n",
       "      <th>Sector</th>\n",
       "      <th>Industry</th>\n",
       "      <th>IPO Year</th>\n",
       "      <th>Price</th>\n",
       "      <th>Market Cap</th>\n",
       "      <th>Trailing P/E</th>\n",
       "      <th>Forward P/E</th>\n",
       "      <th>PEG Ratio(5yr Expected)</th>\n",
       "      <th>...</th>\n",
       "      <th>Operating Cash Flow(TTM)</th>\n",
       "      <th>Levered Free Cash Flow(TTM)</th>\n",
       "      <th>Beta(3Y Monthly)</th>\n",
       "      <th>Shares Outstanding</th>\n",
       "      <th>Forward Annual Dividend Rate</th>\n",
       "      <th>Forward Annual Dividend Yield</th>\n",
       "      <th>Trailing Annual Dividend Rate</th>\n",
       "      <th>Trailing Annual Dividend Yield</th>\n",
       "      <th>5 Year Average Dividend Yield</th>\n",
       "      <th>Payout Ratio</th>\n",
       "    </tr>\n",
       "  </thead>\n",
       "  <tbody>\n",
       "    <tr>\n",
       "      <th>0</th>\n",
       "      <td>PIH</td>\n",
       "      <td>1347 Property Insurance Holdings, Inc.</td>\n",
       "      <td>Finance</td>\n",
       "      <td>Property-Casualty Insurers</td>\n",
       "      <td>2014.0</td>\n",
       "      <td>5.02</td>\n",
       "      <td>3.060500e+07</td>\n",
       "      <td>NaN</td>\n",
       "      <td>NaN</td>\n",
       "      <td>NaN</td>\n",
       "      <td>...</td>\n",
       "      <td>15660000.0</td>\n",
       "      <td>-2950000.0</td>\n",
       "      <td>0.38</td>\n",
       "      <td>6010000.0</td>\n",
       "      <td>NaN</td>\n",
       "      <td>NaN</td>\n",
       "      <td>NaN</td>\n",
       "      <td>NaN</td>\n",
       "      <td>NaN</td>\n",
       "      <td>0.00</td>\n",
       "    </tr>\n",
       "    <tr>\n",
       "      <th>1</th>\n",
       "      <td>TURN</td>\n",
       "      <td>180 Degree Capital Corp.</td>\n",
       "      <td>Finance</td>\n",
       "      <td>Finance/Investors Services</td>\n",
       "      <td>NaN</td>\n",
       "      <td>1.95</td>\n",
       "      <td>5.898600e+07</td>\n",
       "      <td>59.69</td>\n",
       "      <td>NaN</td>\n",
       "      <td>NaN</td>\n",
       "      <td>...</td>\n",
       "      <td>4350000.0</td>\n",
       "      <td>-2310000.0</td>\n",
       "      <td>0.66</td>\n",
       "      <td>31120000.0</td>\n",
       "      <td>NaN</td>\n",
       "      <td>NaN</td>\n",
       "      <td>NaN</td>\n",
       "      <td>NaN</td>\n",
       "      <td>NaN</td>\n",
       "      <td>0.00</td>\n",
       "    </tr>\n",
       "    <tr>\n",
       "      <th>2</th>\n",
       "      <td>FLWS</td>\n",
       "      <td>1-800 FLOWERS.COM, Inc.</td>\n",
       "      <td>Consumer Services</td>\n",
       "      <td>Other Specialty Stores</td>\n",
       "      <td>1999.0</td>\n",
       "      <td>18.93</td>\n",
       "      <td>1.243000e+09</td>\n",
       "      <td>36.59</td>\n",
       "      <td>32.75</td>\n",
       "      <td>3.95</td>\n",
       "      <td>...</td>\n",
       "      <td>90770000.0</td>\n",
       "      <td>42390000.0</td>\n",
       "      <td>1.23</td>\n",
       "      <td>35770000.0</td>\n",
       "      <td>NaN</td>\n",
       "      <td>NaN</td>\n",
       "      <td>NaN</td>\n",
       "      <td>NaN</td>\n",
       "      <td>NaN</td>\n",
       "      <td>0.00</td>\n",
       "    </tr>\n",
       "    <tr>\n",
       "      <th>3</th>\n",
       "      <td>FCCY</td>\n",
       "      <td>1st Constitution Bancorp (NJ)</td>\n",
       "      <td>Finance</td>\n",
       "      <td>Savings Institutions</td>\n",
       "      <td>NaN</td>\n",
       "      <td>17.62</td>\n",
       "      <td>1.562870e+08</td>\n",
       "      <td>11.18</td>\n",
       "      <td>10.15</td>\n",
       "      <td>1.38</td>\n",
       "      <td>...</td>\n",
       "      <td>NaN</td>\n",
       "      <td>NaN</td>\n",
       "      <td>0.16</td>\n",
       "      <td>8630000.0</td>\n",
       "      <td>0.30</td>\n",
       "      <td>1.65</td>\n",
       "      <td>0.30</td>\n",
       "      <td>1.68</td>\n",
       "      <td>NaN</td>\n",
       "      <td>17.59</td>\n",
       "    </tr>\n",
       "    <tr>\n",
       "      <th>4</th>\n",
       "      <td>SRCE</td>\n",
       "      <td>1st Source Corporation</td>\n",
       "      <td>Finance</td>\n",
       "      <td>Major Banks</td>\n",
       "      <td>NaN</td>\n",
       "      <td>44.97</td>\n",
       "      <td>1.171000e+09</td>\n",
       "      <td>13.80</td>\n",
       "      <td>12.59</td>\n",
       "      <td>1.25</td>\n",
       "      <td>...</td>\n",
       "      <td>130670000.0</td>\n",
       "      <td>NaN</td>\n",
       "      <td>1.38</td>\n",
       "      <td>25960000.0</td>\n",
       "      <td>1.08</td>\n",
       "      <td>2.43</td>\n",
       "      <td>0.52</td>\n",
       "      <td>1.16</td>\n",
       "      <td>1.95</td>\n",
       "      <td>31.04</td>\n",
       "    </tr>\n",
       "  </tbody>\n",
       "</table>\n",
       "<p>5 rows × 41 columns</p>\n",
       "</div>"
      ],
      "text/plain": [
       "  Ticker                                    Name             Sector  \\\n",
       "0    PIH  1347 Property Insurance Holdings, Inc.            Finance   \n",
       "1   TURN                180 Degree Capital Corp.            Finance   \n",
       "2   FLWS                 1-800 FLOWERS.COM, Inc.  Consumer Services   \n",
       "3   FCCY           1st Constitution Bancorp (NJ)            Finance   \n",
       "4   SRCE                  1st Source Corporation            Finance   \n",
       "\n",
       "                     Industry  IPO Year  Price    Market Cap  Trailing P/E  \\\n",
       "0  Property-Casualty Insurers    2014.0   5.02  3.060500e+07           NaN   \n",
       "1  Finance/Investors Services       NaN   1.95  5.898600e+07         59.69   \n",
       "2      Other Specialty Stores    1999.0  18.93  1.243000e+09         36.59   \n",
       "3        Savings Institutions       NaN  17.62  1.562870e+08         11.18   \n",
       "4                 Major Banks       NaN  44.97  1.171000e+09         13.80   \n",
       "\n",
       "   Forward P/E  PEG Ratio(5yr Expected)      ...       \\\n",
       "0          NaN                      NaN      ...        \n",
       "1          NaN                      NaN      ...        \n",
       "2        32.75                     3.95      ...        \n",
       "3        10.15                     1.38      ...        \n",
       "4        12.59                     1.25      ...        \n",
       "\n",
       "   Operating Cash Flow(TTM)  Levered Free Cash Flow(TTM)  Beta(3Y Monthly)  \\\n",
       "0                15660000.0                   -2950000.0              0.38   \n",
       "1                 4350000.0                   -2310000.0              0.66   \n",
       "2                90770000.0                   42390000.0              1.23   \n",
       "3                       NaN                          NaN              0.16   \n",
       "4               130670000.0                          NaN              1.38   \n",
       "\n",
       "   Shares Outstanding  Forward Annual Dividend Rate  \\\n",
       "0           6010000.0                           NaN   \n",
       "1          31120000.0                           NaN   \n",
       "2          35770000.0                           NaN   \n",
       "3           8630000.0                          0.30   \n",
       "4          25960000.0                          1.08   \n",
       "\n",
       "   Forward Annual Dividend Yield  Trailing Annual Dividend Rate  \\\n",
       "0                            NaN                            NaN   \n",
       "1                            NaN                            NaN   \n",
       "2                            NaN                            NaN   \n",
       "3                           1.65                           0.30   \n",
       "4                           2.43                           0.52   \n",
       "\n",
       "   Trailing Annual Dividend Yield  5 Year Average Dividend Yield  Payout Ratio  \n",
       "0                             NaN                            NaN          0.00  \n",
       "1                             NaN                            NaN          0.00  \n",
       "2                             NaN                            NaN          0.00  \n",
       "3                            1.68                            NaN         17.59  \n",
       "4                            1.16                           1.95         31.04  \n",
       "\n",
       "[5 rows x 41 columns]"
      ]
     },
     "execution_count": 5,
     "metadata": {},
     "output_type": "execute_result"
    }
   ],
   "source": [
    "financial_data = pd.read_csv(\"company_statistics.csv\")\n",
    "financial_data.head()"
   ]
  },
  {
   "cell_type": "markdown",
   "metadata": {},
   "source": [
    "Lets form our X and Y, which will consist of company statistics"
   ]
  },
  {
   "cell_type": "code",
   "execution_count": 8,
   "metadata": {
    "collapsed": false
   },
   "outputs": [],
   "source": [
    "to_remove = ['Ticker', 'Name', 'Price', 'Sector', 'Industry', 'IPO Year']\n",
    "feature_cols = [x for x in financial_data.columns if x not in to_remove]\n",
    "X = financial_data[feature_cols]\n",
    "Y = financial_data['Price']"
   ]
  },
  {
   "cell_type": "markdown",
   "metadata": {},
   "source": [
    "Now lets train an XGBRegressor Model on the data"
   ]
  },
  {
   "cell_type": "code",
   "execution_count": 7,
   "metadata": {
    "collapsed": false
   },
   "outputs": [],
   "source": [
    "data_dmatrix = xgb.DMatrix(data=X,label=Y)"
   ]
  },
  {
   "cell_type": "code",
   "execution_count": 12,
   "metadata": {
    "collapsed": false
   },
   "outputs": [],
   "source": [
    "X_train, X_test, y_train, y_test = train_test_split(X, Y, test_size=0.3, random_state=123)"
   ]
  },
  {
   "cell_type": "code",
   "execution_count": 13,
   "metadata": {
    "collapsed": true
   },
   "outputs": [],
   "source": [
    "xg_reg = xgb.XGBRegressor(colsample_bytree = 0.3, learning_rate = 0.1,\n",
    "                max_depth = 5, alpha = 10, n_estimators = 10)"
   ]
  },
  {
   "cell_type": "code",
   "execution_count": 14,
   "metadata": {
    "collapsed": false
   },
   "outputs": [
    {
     "data": {
      "text/plain": [
       "XGBRegressor(alpha=10, base_score=0.5, booster='gbtree', colsample_bylevel=1,\n",
       "       colsample_bytree=0.3, gamma=0, importance_type='gain',\n",
       "       learning_rate=0.1, max_delta_step=0, max_depth=5,\n",
       "       min_child_weight=1, missing=None, n_estimators=10, n_jobs=1,\n",
       "       nthread=None, objective='reg:linear', random_state=0, reg_alpha=0,\n",
       "       reg_lambda=1, scale_pos_weight=1, seed=None, silent=True,\n",
       "       subsample=1)"
      ]
     },
     "execution_count": 14,
     "metadata": {},
     "output_type": "execute_result"
    }
   ],
   "source": [
    "xg_reg.fit(X_train,y_train)"
   ]
  },
  {
   "cell_type": "code",
   "execution_count": 15,
   "metadata": {
    "collapsed": false
   },
   "outputs": [
    {
     "data": {
      "text/plain": [
       "0.47270380065931106"
      ]
     },
     "execution_count": 15,
     "metadata": {},
     "output_type": "execute_result"
    }
   ],
   "source": [
    "xg_reg.score(X_test, y_test)\n",
    "#print(\"Feature Importances: \" + str(xg_reg.feature_importances_))"
   ]
  },
  {
   "cell_type": "code",
   "execution_count": 16,
   "metadata": {
    "collapsed": false
   },
   "outputs": [
    {
     "name": "stderr",
     "output_type": "stream",
     "text": [
      "C:\\Users\\kevin\\Anaconda3\\lib\\site-packages\\sklearn\\cross_validation.py:41: DeprecationWarning: This module was deprecated in version 0.18 in favor of the model_selection module into which all the refactored classes and functions are moved. Also note that the interface of the new CV iterators are different from that of this module. This module will be removed in 0.20.\n",
      "  \"This module will be removed in 0.20.\", DeprecationWarning)\n",
      "C:\\Users\\kevin\\Anaconda3\\lib\\site-packages\\sklearn\\grid_search.py:42: DeprecationWarning: This module was deprecated in version 0.18 in favor of the model_selection module into which all the refactored classes and functions are moved. This module will be removed in 0.20.\n",
      "  DeprecationWarning)\n"
     ]
    },
    {
     "data": {
      "text/plain": [
       "([mean: 0.85424, std: 0.07623, params: {'gamma': 0, 'learning_rate': 0.25, 'max_depth': 3, 'min_child_weight': 4, 'reg_alpha': 0.1},\n",
       "  mean: 0.85436, std: 0.07609, params: {'gamma': 0, 'learning_rate': 0.25, 'max_depth': 3, 'min_child_weight': 4, 'reg_alpha': 0.12},\n",
       "  mean: 0.85313, std: 0.07619, params: {'gamma': 0, 'learning_rate': 0.25, 'max_depth': 3, 'min_child_weight': 4, 'reg_alpha': 0.14}],\n",
       " {'gamma': 0,\n",
       "  'learning_rate': 0.25,\n",
       "  'max_depth': 3,\n",
       "  'min_child_weight': 4,\n",
       "  'reg_alpha': 0.12},\n",
       " 0.8543641380087227)"
      ]
     },
     "execution_count": 16,
     "metadata": {},
     "output_type": "execute_result"
    }
   ],
   "source": [
    "from sklearn import cross_validation, metrics   #Additional scklearn functions\n",
    "from sklearn.grid_search import GridSearchCV   #Perforing grid search\n",
    "\n",
    "param_test = {\n",
    "    'max_depth':[3],\n",
    "    'min_child_weight':[4],\n",
    "    'learning_rate':[.25],\n",
    "    'gamma':[0],\n",
    "    'reg_alpha':[ 0.1, .12, .14]\n",
    "}\n",
    "xgbr = xgb.XGBRegressor() \n",
    "gsearch = GridSearchCV(estimator = xgbr , \n",
    "param_grid = param_test,n_jobs=4,iid=False, cv=5)\n",
    "gsearch.fit(X_train,y_train)\n",
    "gsearch.grid_scores_, gsearch.best_params_, gsearch.best_score_"
   ]
  },
  {
   "cell_type": "markdown",
   "metadata": {},
   "source": [
    "Now lets see how we did on the test set"
   ]
  },
  {
   "cell_type": "code",
   "execution_count": 17,
   "metadata": {
    "collapsed": false
   },
   "outputs": [
    {
     "data": {
      "text/plain": [
       "0.8972435939435452"
      ]
     },
     "execution_count": 17,
     "metadata": {},
     "output_type": "execute_result"
    }
   ],
   "source": [
    "gsearch.best_estimator_.score(X_test, y_test)"
   ]
  },
  {
   "cell_type": "code",
   "execution_count": 18,
   "metadata": {
    "collapsed": false
   },
   "outputs": [],
   "source": [
    "model = gsearch.best_estimator_\n",
    "preds = model.predict(X_test)"
   ]
  },
  {
   "cell_type": "code",
   "execution_count": 19,
   "metadata": {
    "collapsed": true
   },
   "outputs": [],
   "source": [
    "rmse = np.sqrt(mean_squared_error(y_test, preds))"
   ]
  },
  {
   "cell_type": "code",
   "execution_count": 20,
   "metadata": {
    "collapsed": false
   },
   "outputs": [
    {
     "name": "stdout",
     "output_type": "stream",
     "text": [
      "RMSE: 19.172193\n"
     ]
    }
   ],
   "source": [
    "print(\"RMSE: %f\" % (rmse))"
   ]
  },
  {
   "cell_type": "code",
   "execution_count": 21,
   "metadata": {
    "collapsed": false
   },
   "outputs": [
    {
     "data": {
      "image/png": "[encoded data removed]",
      "text/plain": [
       "<matplotlib.figure.Figure at 0x2961a20d5f8>"
      ]
     },
     "metadata": {},
     "output_type": "display_data"
    }
   ],
   "source": [
    "def plot_feature_importances(clf, X_train, y_train=None, \n",
    "                             top_n=10, figsize=(8,8), print_table=False, title=\"Feature Importances\"):\n",
    "    '''\n",
    "    plot feature importances of a tree-based sklearn estimator\n",
    "    \n",
    "    Note: X_train and y_train are pandas DataFrames\n",
    "    \n",
    "    Note: Scikit-plot is a lovely package but I sometimes have issues\n",
    "              1. flexibility/extendibility\n",
    "              2. complicated models/datasets\n",
    "          But for many situations Scikit-plot is the way to go\n",
    "          see https://scikit-plot.readthedocs.io/en/latest/Quickstart.html\n",
    "    \n",
    "    Parameters\n",
    "    ----------\n",
    "        clf         (sklearn estimator) if not fitted, this routine will fit it\n",
    "        \n",
    "        X_train     (pandas DataFrame)\n",
    "        \n",
    "        y_train     (pandas DataFrame)  optional\n",
    "                                        required only if clf has not already been fitted \n",
    "        \n",
    "        top_n       (int)               Plot the top_n most-important features\n",
    "                                        Default: 10\n",
    "                                        \n",
    "        figsize     ((int,int))         The physical size of the plot\n",
    "                                        Default: (8,8)\n",
    "        \n",
    "        print_table (boolean)           If True, print out the table of feature importances\n",
    "                                        Default: False\n",
    "        \n",
    "    Returns\n",
    "    -------\n",
    "        the pandas dataframe with the features and their importance\n",
    "        \n",
    "    Author\n",
    "    ------\n",
    "        George Fisher\n",
    "    '''\n",
    "    \n",
    "    __name__ = \"plot_feature_importances\"\n",
    "    \n",
    "    import pandas as pd\n",
    "    import numpy  as np\n",
    "    import matplotlib.pyplot as plt\n",
    "    \n",
    "    from xgboost.core     import XGBoostError\n",
    "    \n",
    "    try: \n",
    "        if not hasattr(clf, 'feature_importances_'):\n",
    "            clf.fit(X_train.values, y_train.values.ravel())\n",
    "\n",
    "            if not hasattr(clf, 'feature_importances_'):\n",
    "                raise AttributeError(\"{} does not have feature_importances_ attribute\".\n",
    "                                    format(clf.__class__.__name__))\n",
    "                \n",
    "    except (XGBoostError, ValueError):\n",
    "        clf.fit(X_train.values, y_train.values.ravel())\n",
    "            \n",
    "    feat_imp = pd.DataFrame({'importance':clf.feature_importances_})    \n",
    "    feat_imp['feature'] = X_train.columns\n",
    "    feat_imp.sort_values(by='importance', ascending=False, inplace=True)\n",
    "    feat_imp = feat_imp.iloc[:top_n]\n",
    "    \n",
    "    feat_imp.sort_values(by='importance', inplace=True)\n",
    "    feat_imp = feat_imp.set_index('feature', drop=True)\n",
    "    feat_imp.plot.barh(title=title, figsize=figsize)\n",
    "    plt.xlabel('Feature Importance Score')\n",
    "    plt.show()\n",
    "    \n",
    "    if print_table:\n",
    "        from IPython.display import display\n",
    "        print(\"Top {} features in descending order of importance\".format(top_n))\n",
    "        display(feat_imp.sort_values(by='importance', ascending=False))\n",
    "        \n",
    "    return feat_imp\n",
    "\n",
    "fi = plot_feature_importances(model, X_train, y_train=y_train)"
   ]
  },
  {
   "cell_type": "markdown",
   "metadata": {},
   "source": [
    "## Using XGBoost to Predict stock market prices given a companies summary statistics"
   ]
  },
  {
   "cell_type": "code",
   "execution_count": 22,
   "metadata": {
    "collapsed": true
   },
   "outputs": [],
   "source": [
    "from market import *"
   ]
  },
  {
   "cell_type": "code",
   "execution_count": 23,
   "metadata": {
    "collapsed": true
   },
   "outputs": [],
   "source": [
    "def predict_price(ticker): # Next Step: Compareto actual price and output how much its overvalued or undervalued by\n",
    "    attributes = ['Market Cap (intraday)','Trailing P/E','Forward P/E','PEG Ratio (5 yr expected)','Price/Sales','Price/Book',\n",
    "                  'Enterprise Value/Revenue','Enterprise Value/EBITDA','Profit Margin','Operating Margin',\n",
    "                  'Return on Assets','Return on Equity','Revenue','Revenue Per Share',\n",
    "                  'Quarterly Revenue Growth','Gross Profit','EBITDA','Diluted EPS',\n",
    "                  'Quarterly Earnings Growth','Total Cash','Total Cash Per Share','Total Debt',\n",
    "                  'Total Debt/Equity','Current Ratio','Book Value Per Share','Operating Cash Flow',\n",
    "                  'Levered Free Cash Flow','Beta (3Y Monthly)','Shares Outstanding','Forward Annual Dividend Rate',\n",
    "                  'Forward Annual Dividend Yield','Trailing Annual Dividend Rate','Trailing Annual Dividend Yield',\n",
    "                  '5 Year Average Dividend Yield','Payout Ratio']\n",
    "    stats = get_summary_statistics(ticker)\n",
    "    x = []\n",
    "    for a in attributes:\n",
    "        x.append(str_to_num(stats[a]))\n",
    "    to_remove = ['Ticker', 'Name', 'Price', 'Sector', 'Industry', 'IPO Year']\n",
    "    feature_cols = [y for y in financial_data.columns if y not in to_remove]\n",
    "    X = pd.DataFrame(columns=feature_cols)\n",
    "    X.loc[-1] = x\n",
    "    price = model.predict(X)\n",
    "    return price[0]"
   ]
  },
  {
   "cell_type": "code",
   "execution_count": 24,
   "metadata": {
    "collapsed": false
   },
   "outputs": [
    {
     "data": {
      "text/plain": [
       "211.00438"
      ]
     },
     "execution_count": 24,
     "metadata": {},
     "output_type": "execute_result"
    }
   ],
   "source": [
    "predict_price(\"NVDA\")"
   ]
  },
  {
   "cell_type": "code",
   "execution_count": 25,
   "metadata": {
    "collapsed": false
   },
   "outputs": [
    {
     "name": "stdout",
     "output_type": "stream",
     "text": [
      "ANALYSIS FOR NVDA\n",
      "Industry: Semiconductors\n",
      "Trailing P/E Ratio: 33.04. Industry Average: 40.71000000000001.\n",
      "Forward P/E Ratio: 24.59. Industry Average: 18.99739130434783.\n",
      "Price to Sales Ratio: 9.94. Industry Average: 8.569342105263159.\n",
      "Price to Book Ratio: 10.99. Industry Average: 5.7200000000000015.\n",
      "Enterprise Value to Revenue: 9.45. Industry Average: 7.238289473684211.\n",
      "Enterprise Value to EBITDA: 32.05. Industry Average: 14.146842105263156.\n",
      "Profit Margin: 30.67%. Industry Average: -2.574025974025973%.\n",
      "Operating Margin: 26.72%. Industry Average: -8.169199999999998%.\n",
      "Return on Assets: 14.06%. Industry Average: -4.160789473684211%.\n",
      "Return on Equity: 37.78%. Industry Average: -11.639729729729726%.\n",
      "Gross Profit: 7.17B. Industry Average: 1636469027.7777777.\n",
      "Quarterly Earnings Growth: -68.30%. Industry Average: 25.051515151515165%.\n",
      "Debt to Equity: 26.32. Industry Average: 55.19529411764708.\n",
      "Current Ratio: 8.98. Industry Average: 4.71272727272727.\n",
      "Book Value Per Share: 15.93. Industry Average: 12.350519480519477.\n",
      "Beta: 2.52. Industry Average: 1.5146666666666668.\n",
      "Altman Zscore: 3.1113049797460737\n"
     ]
    }
   ],
   "source": [
    "analyze(\"NVDA\")"
   ]
  },
  {
   "cell_type": "code",
   "execution_count": 26,
   "metadata": {
    "collapsed": false
   },
   "outputs": [
    {
     "data": {
      "text/plain": [
       "56.328915"
      ]
     },
     "execution_count": 26,
     "metadata": {},
     "output_type": "execute_result"
    }
   ],
   "source": [
    "predict_price(\"WORK\")"
   ]
  },
  {
   "cell_type": "code",
   "execution_count": 27,
   "metadata": {
    "collapsed": false
   },
   "outputs": [
    {
     "name": "stdout",
     "output_type": "stream",
     "text": [
      "Failed to find the company industry.\n",
      "ANALYSIS FOR WORK\n"
     ]
    },
    {
     "ename": "TypeError",
     "evalue": "must be str, not int",
     "output_type": "error",
     "traceback": [
      "\u001b[1;31m---------------------------------------------------------------------------\u001b[0m",
      "\u001b[1;31mTypeError\u001b[0m                                 Traceback (most recent call last)",
      "\u001b[1;32m<ipython-input-27-1055d6a0ce0d>\u001b[0m in \u001b[0;36m<module>\u001b[1;34m()\u001b[0m\n\u001b[1;32m----> 1\u001b[1;33m \u001b[0manalyze\u001b[0m\u001b[1;33m(\u001b[0m\u001b[1;34m\"WORK\"\u001b[0m\u001b[1;33m)\u001b[0m\u001b[1;33m\u001b[0m\u001b[0m\n\u001b[0m",
      "\u001b[1;32mC:\\Users\\kevin\\Documents\\Projects\\Coding Projects\\Stock Market\\Stock-Market-Analysis\\market.py\u001b[0m in \u001b[0;36manalyze\u001b[1;34m(ticker)\u001b[0m\n\u001b[0;32m    821\u001b[0m     \u001b[0maltman_zscore\u001b[0m \u001b[1;33m=\u001b[0m \u001b[0mget_altman_zscore\u001b[0m\u001b[1;33m(\u001b[0m\u001b[0mticker\u001b[0m\u001b[1;33m)\u001b[0m\u001b[1;33m\u001b[0m\u001b[0m\n\u001b[0;32m    822\u001b[0m     \u001b[0mprint\u001b[0m\u001b[1;33m(\u001b[0m\u001b[1;34m\"ANALYSIS FOR \"\u001b[0m \u001b[1;33m+\u001b[0m \u001b[0mticker\u001b[0m\u001b[1;33m)\u001b[0m\u001b[1;33m\u001b[0m\u001b[0m\n\u001b[1;32m--> 823\u001b[1;33m     \u001b[0mprint\u001b[0m\u001b[1;33m(\u001b[0m\u001b[1;34m\"Industry: \"\u001b[0m \u001b[1;33m+\u001b[0m \u001b[0mindustry\u001b[0m\u001b[1;33m)\u001b[0m\u001b[1;33m\u001b[0m\u001b[0m\n\u001b[0m\u001b[0;32m    824\u001b[0m     print(\"Trailing P/E Ratio: \" + summary_stats['Trailing P/E'] + \". Industry Average: \" + \n\u001b[0;32m    825\u001b[0m       str(industry_trailing_pe[industry]) + '.')\n",
      "\u001b[1;31mTypeError\u001b[0m: must be str, not int"
     ]
    }
   ],
   "source": [
    "analyze(\"WORK\")"
   ]
  },
  {
   "cell_type": "markdown",
   "metadata": {},
   "source": [
    "Let's predict the price for Sony, which is outside of our training set."
   ]
  },
  {
   "cell_type": "code",
   "execution_count": 115,
   "metadata": {
    "collapsed": false
   },
   "outputs": [
    {
     "name": "stdout",
     "output_type": "stream",
     "text": [
      "[49.56896, 11.598441, 157.96178, 46.519207, 62.09287, 85.7837, 76.2089]\n"
     ]
    }
   ],
   "source": [
    "portfolio = ['EIX', 'RCUS', 'DIS', 'ATVI', 'A', 'EA', 'IIPR']\n",
    "predictions = []\n",
    "for ticker in portfolio:\n",
    "    predictions.append(predict_price(ticker))\n",
    "print(predictions)"
   ]
  },
  {
   "cell_type": "code",
   "execution_count": 1,
   "metadata": {
    "collapsed": false
   },
   "outputs": [
    {
     "ename": "NameError",
     "evalue": "name 'predict_price' is not defined",
     "output_type": "error",
     "traceback": [
      "\u001b[1;31m---------------------------------------------------------------------------\u001b[0m",
      "\u001b[1;31mNameError\u001b[0m                                 Traceback (most recent call last)",
      "\u001b[1;32m<ipython-input-1-871500356280>\u001b[0m in \u001b[0;36m<module>\u001b[1;34m()\u001b[0m\n\u001b[1;32m----> 1\u001b[1;33m \u001b[0mpredict_price\u001b[0m\u001b[1;33m(\u001b[0m\u001b[1;34m\"nvda\"\u001b[0m\u001b[1;33m)\u001b[0m\u001b[1;33m\u001b[0m\u001b[0m\n\u001b[0m",
      "\u001b[1;31mNameError\u001b[0m: name 'predict_price' is not defined"
     ]
    }
   ],
   "source": [
    "predict_price(\"nvda\")"
   ]
  },
  {
   "cell_type": "code",
   "execution_count": 147,
   "metadata": {
    "collapsed": false
   },
   "outputs": [],
   "source": [
    "# save model to file\n",
    "pkl.dump(model, open(\"xgbr_0725.dat\", \"wb\"))"
   ]
  },
  {
   "cell_type": "code",
   "execution_count": null,
   "metadata": {
    "collapsed": true
   },
   "outputs": [],
   "source": [
    "model = pickle.load(open(\"xgbr_0725.dat\", \"rb\"))"
   ]
  },
  {
   "cell_type": "markdown",
   "metadata": {},
   "source": [
    "## Using a Neural Net to Predict Prices "
   ]
  },
  {
   "cell_type": "code",
   "execution_count": 46,
   "metadata": {
    "collapsed": false
   },
   "outputs": [
    {
     "name": "stdout",
     "output_type": "stream",
     "text": [
      "Epoch 1/5\n",
      "1780/1780 [==============================] - 0s 181us/step - loss: nan - acc: 0.0000e+00\b\b\b\b\b\b\b\b\b\b\b\b\b\b\b\b\b\b\b\b\b\b\b\b\b\b\b\b\b\b\b\b\b\b\b\b\b\b\b\b\b\b\b\b\b\b\b\b\b\b\b\b\b\b\b\b\b\b\b\b\b\b\b\b\b\b\b\b\b\b\b\b\b\b\b\b\b\b\n",
      "Epoch 2/5\n",
      "1780/1780 [==============================] - 0s 29us/step - loss: nan - acc: 0.0000e+00\b\b\b\b\b\b\b\b\b\b\b\b\b\b\b\b\b\b\b\b\b\b\b\b\b\b\b\b\b\b\b\b\b\b\b\b\b\b\b\b\b\b\b\b\b\b\b\b\b\b\b\b\b\b\b\b\b\b\b\b\b\b\b\b\b\b\b\b\b\b\b\b\b\b\b\b\b\n",
      "Epoch 3/5\n",
      "1780/1780 [==============================] - 0s 31us/step - loss: nan - acc: 0.0000e+00\b\b\b\b\b\b\b\b\b\b\b\b\b\b\b\b\b\b\b\b\b\b\b\b\b\b\b\b\b\b\b\b\b\b\b\b\b\b\b\b\b\b\b\b\b\b\b\b\b\b\b\b\b\b\b\b\b\b\b\b\b\b\b\b\b\b\b\b\b\b\b\b\b\b\b\b\b\b\b\b\b\b\b\b\b\b\b\b\b\b\b\b\b\b\b\b\b\b\b\b\b\b\b\b\b\b\b\b\b\b\b\b\b\b\b\b\b\b\b\b\b\b\b\b\b\b\b\b\b\b\b\b\b\b\b\b\b\b\b\b\b\b\b\b\b\b\b\b\b\b\b\b\b\b\b\b\b\b\b\n",
      "Epoch 4/5\n",
      "1780/1780 [==============================] - 0s 31us/step - loss: nan - acc: 0.0000e+00\b\b\b\b\b\b\b\b\b\b\b\b\b\b\b\b\b\b\b\b\b\b\b\b\b\b\b\b\b\b\b\b\b\b\b\b\b\b\b\b\b\b\b\b\b\b\b\b\b\b\b\b\b\b\b\b\b\b\b\b\b\b\b\b\b\b\b\b\b\b\b\b\b\b\b\b\b\b\b\b\b\b\b\b\b\b\b\b\b\b\b\b\b\b\b\b\b\b\b\b\b\b\b\b\b\b\b\b\b\b\b\b\b\b\b\b\b\b\b\b\b\b\b\b\b\b\b\b\b\b\b\b\b\b\b\b\b\b\b\b\b\b\b\b\b\b\b\b\b\b\b\b\b\b\b\b\b\b\b\n",
      "Epoch 5/5\n",
      "1780/1780 [==============================] - 0s 35us/step - loss: nan - acc: 0.0000e+00\b\b\b\b\b\b\b\b\b\b\b\b\b\b\b\b\b\b\b\b\b\b\b\b\b\b\b\b\b\b\b\b\b\b\b\b\b\b\b\b\b\b\b\b\b\b\b\b\b\b\b\b\b\b\b\b\b\b\b\b\b\b\b\b\b\b\b\b\b\b\b\b\b\b\b\b\b\b\b\b\b\b\b\b\b\b\b\b\b\b\b\b\b\b\b\b\b\b\b\b\b\b\b\b\b\b\b\b\b\b\b\b\b\b\b\b\b\b\b\b\b\b\b\b\b\b\b\b\b\b\b\b\b\b\b\b\b\b\b\b\b\b\b\b\b\b\b\b\b\b\b\b\b\b\b\b\b\b\b\n",
      "446/446 [==============================] - 0s 190us/step\b\b\b\b\b\b\b\b\b\b\b\b\b\b\b\b\b\b\b\b\b\b\b\b\b\b\b\b\b\b\b\b\b\b\b\b\b\b\b\b\b\b\b\b\n"
     ]
    },
    {
     "data": {
      "text/plain": [
       "[nan, 0.0]"
      ]
     },
     "execution_count": 46,
     "metadata": {},
     "output_type": "execute_result"
    }
   ],
   "source": [
    "X_train, X_test, y_train, y_test = train_test_split(X, Y, test_size=0.2, random_state=123)\n",
    "model = tf.keras.models.Sequential([\n",
    "  tf.keras.layers.Flatten(),\n",
    "  tf.keras.layers.Dense(20, activation=tf.nn.relu),\n",
    "  tf.keras.layers.Dropout(0.2),\n",
    "  tf.keras.layers.Dense(1)\n",
    "])\n",
    "model.compile(optimizer='adam',\n",
    "              loss='sparse_categorical_crossentropy',\n",
    "              metrics=['accuracy'])\n",
    "\n",
    "model.fit(X_train, y_train, epochs=5)\n",
    "model.evaluate(X_test, y_test)"
   ]
  },
  {
   "cell_type": "code",
   "execution_count": null,
   "metadata": {
    "collapsed": true
   },
   "outputs": [],
   "source": []
  }
 ],
 "metadata": {
  "kernelspec": {
   "display_name": "Python 3",
   "language": "python",
   "name": "python3"
  },
  "language_info": {
   "codemirror_mode": {
    "name": "ipython",
    "version": 3
   },
   "file_extension": ".py",
   "mimetype": "text/x-python",
   "name": "python",
   "nbconvert_exporter": "python",
   "pygments_lexer": "ipython3",
   "version": "3.6.6"
  }
 },
 "nbformat": 4,
 "nbformat_minor": 2
}
